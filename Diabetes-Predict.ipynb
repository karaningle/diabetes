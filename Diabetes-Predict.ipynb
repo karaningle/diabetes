{
 "cells": [
  {
   "cell_type": "code",
   "execution_count": 9,
   "metadata": {},
   "outputs": [],
   "source": [
    "import warnings\n",
    "warnings.filterwarnings('ignore')\n",
    "\n",
    "import pandas as pd\n",
    "import numpy as np\n",
    "import seaborn as sns\n",
    "import matplotlib.pyplot as plt\n",
    "%matplotlib inline\n",
    "\n",
    "#sklearn\n",
    "from sklearn.model_selection import train_test_split\n",
    "from sklearn import ensemble\n",
    "from sklearn import preprocessing\n",
    "from sklearn.metrics import roc_auc_score,accuracy_score,f1_score,recall_score,confusion_matrix,precision_score\n",
    "from sklearn.preprocessing import StandardScaler, MinMaxScaler\n",
    "from sklearn.neighbors import KNeighborsClassifier\n",
    "from sklearn.svm import SVC\n",
    "from sklearn.tree import DecisionTreeClassifier\n",
    "from sklearn.ensemble import RandomForestClassifier, AdaBoostClassifier, GradientBoostingClassifier\n",
    "from sklearn.naive_bayes import GaussianNB\n",
    "from sklearn.discriminant_analysis import LinearDiscriminantAnalysis\n",
    "from sklearn.linear_model import LogisticRegression\n",
    "from sklearn import metrics as m\n",
    "from sklearn.model_selection import StratifiedShuffleSplit\n",
    "from sklearn.model_selection import ShuffleSplit\n",
    "#from sklearn.model_selection import cross_validation   #Additional sklearn functions\n",
    "from sklearn.model_selection import RandomizedSearchCV\n",
    "from sklearn.model_selection import GridSearchCV\n",
    "from sklearn.preprocessing import LabelEncoder\n",
    "from sklearn.linear_model import LogisticRegression\n",
    "from sklearn.svm import SVC\n",
    "from sklearn.externals import joblib"
   ]
  },
  {
   "cell_type": "code",
   "execution_count": 10,
   "metadata": {},
   "outputs": [
    {
     "data": {
      "text/plain": [
       "'\\nDataset information:\\n\\nThis dataset is originally from the National Institute of Diabetes and Digestive and Kidney Diseases.\\nAll patients here are females at least 21 years old of Pima Indian heritage.\\n\\n\\nPregnancies: Number of times pregnant - Continuous var\\n\\nGlucose: Plasma glucose concentration a 2 hours in an oral glucose tolerance test - Continuous var\\n\\nBloodPressure: Diastolic blood pressure (mm Hg) [Normal is 90 - Can be converted to categorical] - Continuous var\\n\\nSkinThickness: Triceps skin fold thickness (mm) - Continuous var\\n\\nInsulin: 2-Hour serum insulin (mu U/ml) - Continuous var\\n\\nBMI: Body mass index (weight in kg/(height in m)^2) - Continuous var [Can be converted to categorical]\\n\\nDiabetesPedigreeFunction: Diabetes pedigree function - Continuous var\\n\\nAge: Age (years) - Continuous var\\n\\nOutcome: Class variable (0 or 1) - Categorical target var\\n\\n'"
      ]
     },
     "execution_count": 10,
     "metadata": {},
     "output_type": "execute_result"
    }
   ],
   "source": [
    "\"\"\"\n",
    "Dataset information:\n",
    "\n",
    "This dataset is originally from the National Institute of Diabetes and Digestive and Kidney Diseases.\n",
    "All patients here are females at least 21 years old of Pima Indian heritage.\n",
    "\n",
    "\n",
    "Pregnancies: Number of times pregnant - Continuous var\n",
    "\n",
    "Glucose: Plasma glucose concentration a 2 hours in an oral glucose tolerance test - Continuous var\n",
    "\n",
    "BloodPressure: Diastolic blood pressure (mm Hg) [Normal is 90 - Can be converted to categorical] - Continuous var\n",
    "\n",
    "SkinThickness: Triceps skin fold thickness (mm) - Continuous var\n",
    "\n",
    "Insulin: 2-Hour serum insulin (mu U/ml) - Continuous var\n",
    "\n",
    "BMI: Body mass index (weight in kg/(height in m)^2) - Continuous var [Can be converted to categorical]\n",
    "\n",
    "DiabetesPedigreeFunction: Diabetes pedigree function - Continuous var\n",
    "\n",
    "Age: Age (years) - Continuous var\n",
    "\n",
    "Outcome: Class variable (0 or 1) - Categorical target var\n",
    "\n",
    "\"\"\""
   ]
  },
  {
   "cell_type": "code",
   "execution_count": 11,
   "metadata": {},
   "outputs": [
    {
     "data": {
      "text/html": [
       "<div>\n",
       "<style scoped>\n",
       "    .dataframe tbody tr th:only-of-type {\n",
       "        vertical-align: middle;\n",
       "    }\n",
       "\n",
       "    .dataframe tbody tr th {\n",
       "        vertical-align: top;\n",
       "    }\n",
       "\n",
       "    .dataframe thead th {\n",
       "        text-align: right;\n",
       "    }\n",
       "</style>\n",
       "<table border=\"1\" class=\"dataframe\">\n",
       "  <thead>\n",
       "    <tr style=\"text-align: right;\">\n",
       "      <th></th>\n",
       "      <th>Pregnancies</th>\n",
       "      <th>Glucose</th>\n",
       "      <th>BloodPressure</th>\n",
       "      <th>SkinThickness</th>\n",
       "      <th>Insulin</th>\n",
       "      <th>BMI</th>\n",
       "      <th>DiabetesPedigreeFunction</th>\n",
       "      <th>Age</th>\n",
       "      <th>Outcome</th>\n",
       "    </tr>\n",
       "  </thead>\n",
       "  <tbody>\n",
       "    <tr>\n",
       "      <th>0</th>\n",
       "      <td>6</td>\n",
       "      <td>148</td>\n",
       "      <td>72</td>\n",
       "      <td>35</td>\n",
       "      <td>0</td>\n",
       "      <td>33.6</td>\n",
       "      <td>0.627</td>\n",
       "      <td>50</td>\n",
       "      <td>1</td>\n",
       "    </tr>\n",
       "    <tr>\n",
       "      <th>1</th>\n",
       "      <td>1</td>\n",
       "      <td>85</td>\n",
       "      <td>66</td>\n",
       "      <td>29</td>\n",
       "      <td>0</td>\n",
       "      <td>26.6</td>\n",
       "      <td>0.351</td>\n",
       "      <td>31</td>\n",
       "      <td>0</td>\n",
       "    </tr>\n",
       "    <tr>\n",
       "      <th>2</th>\n",
       "      <td>8</td>\n",
       "      <td>183</td>\n",
       "      <td>64</td>\n",
       "      <td>0</td>\n",
       "      <td>0</td>\n",
       "      <td>23.3</td>\n",
       "      <td>0.672</td>\n",
       "      <td>32</td>\n",
       "      <td>1</td>\n",
       "    </tr>\n",
       "    <tr>\n",
       "      <th>3</th>\n",
       "      <td>1</td>\n",
       "      <td>89</td>\n",
       "      <td>66</td>\n",
       "      <td>23</td>\n",
       "      <td>94</td>\n",
       "      <td>28.1</td>\n",
       "      <td>0.167</td>\n",
       "      <td>21</td>\n",
       "      <td>0</td>\n",
       "    </tr>\n",
       "    <tr>\n",
       "      <th>4</th>\n",
       "      <td>0</td>\n",
       "      <td>137</td>\n",
       "      <td>40</td>\n",
       "      <td>35</td>\n",
       "      <td>168</td>\n",
       "      <td>43.1</td>\n",
       "      <td>2.288</td>\n",
       "      <td>33</td>\n",
       "      <td>1</td>\n",
       "    </tr>\n",
       "  </tbody>\n",
       "</table>\n",
       "</div>"
      ],
      "text/plain": [
       "   Pregnancies  Glucose  BloodPressure  SkinThickness  Insulin   BMI  \\\n",
       "0            6      148             72             35        0  33.6   \n",
       "1            1       85             66             29        0  26.6   \n",
       "2            8      183             64              0        0  23.3   \n",
       "3            1       89             66             23       94  28.1   \n",
       "4            0      137             40             35      168  43.1   \n",
       "\n",
       "   DiabetesPedigreeFunction  Age  Outcome  \n",
       "0                     0.627   50        1  \n",
       "1                     0.351   31        0  \n",
       "2                     0.672   32        1  \n",
       "3                     0.167   21        0  \n",
       "4                     2.288   33        1  "
      ]
     },
     "execution_count": 11,
     "metadata": {},
     "output_type": "execute_result"
    }
   ],
   "source": [
    "diabetesDF = pd.read_csv('diabetes.csv')\n",
    "diabetesDF.head()"
   ]
  },
  {
   "cell_type": "code",
   "execution_count": 12,
   "metadata": {},
   "outputs": [
    {
     "name": "stdout",
     "output_type": "stream",
     "text": [
      "<class 'pandas.core.frame.DataFrame'>\n",
      "RangeIndex: 768 entries, 0 to 767\n",
      "Data columns (total 9 columns):\n",
      "Pregnancies                 768 non-null int64\n",
      "Glucose                     768 non-null int64\n",
      "BloodPressure               768 non-null int64\n",
      "SkinThickness               768 non-null int64\n",
      "Insulin                     768 non-null int64\n",
      "BMI                         768 non-null float64\n",
      "DiabetesPedigreeFunction    768 non-null float64\n",
      "Age                         768 non-null int64\n",
      "Outcome                     768 non-null int64\n",
      "dtypes: float64(2), int64(7)\n",
      "memory usage: 54.1 KB\n"
     ]
    }
   ],
   "source": [
    "diabetesDF.info()"
   ]
  },
  {
   "cell_type": "code",
   "execution_count": 13,
   "metadata": {},
   "outputs": [],
   "source": [
    "#Conclusion-Clean data with no missing elements."
   ]
  },
  {
   "cell_type": "code",
   "execution_count": 14,
   "metadata": {},
   "outputs": [
    {
     "data": {
      "text/html": [
       "<div>\n",
       "<style scoped>\n",
       "    .dataframe tbody tr th:only-of-type {\n",
       "        vertical-align: middle;\n",
       "    }\n",
       "\n",
       "    .dataframe tbody tr th {\n",
       "        vertical-align: top;\n",
       "    }\n",
       "\n",
       "    .dataframe thead th {\n",
       "        text-align: right;\n",
       "    }\n",
       "</style>\n",
       "<table border=\"1\" class=\"dataframe\">\n",
       "  <thead>\n",
       "    <tr style=\"text-align: right;\">\n",
       "      <th></th>\n",
       "      <th>Pregnancies</th>\n",
       "      <th>Glucose</th>\n",
       "      <th>BloodPressure</th>\n",
       "      <th>SkinThickness</th>\n",
       "      <th>Insulin</th>\n",
       "      <th>BMI</th>\n",
       "      <th>DiabetesPedigreeFunction</th>\n",
       "      <th>Age</th>\n",
       "      <th>Outcome</th>\n",
       "    </tr>\n",
       "  </thead>\n",
       "  <tbody>\n",
       "    <tr>\n",
       "      <th>count</th>\n",
       "      <td>768.000000</td>\n",
       "      <td>768.000000</td>\n",
       "      <td>768.000000</td>\n",
       "      <td>768.000000</td>\n",
       "      <td>768.000000</td>\n",
       "      <td>768.000000</td>\n",
       "      <td>768.000000</td>\n",
       "      <td>768.000000</td>\n",
       "      <td>768.000000</td>\n",
       "    </tr>\n",
       "    <tr>\n",
       "      <th>mean</th>\n",
       "      <td>3.845052</td>\n",
       "      <td>120.894531</td>\n",
       "      <td>69.105469</td>\n",
       "      <td>20.536458</td>\n",
       "      <td>79.799479</td>\n",
       "      <td>31.992578</td>\n",
       "      <td>0.471876</td>\n",
       "      <td>33.240885</td>\n",
       "      <td>0.348958</td>\n",
       "    </tr>\n",
       "    <tr>\n",
       "      <th>std</th>\n",
       "      <td>3.369578</td>\n",
       "      <td>31.972618</td>\n",
       "      <td>19.355807</td>\n",
       "      <td>15.952218</td>\n",
       "      <td>115.244002</td>\n",
       "      <td>7.884160</td>\n",
       "      <td>0.331329</td>\n",
       "      <td>11.760232</td>\n",
       "      <td>0.476951</td>\n",
       "    </tr>\n",
       "    <tr>\n",
       "      <th>min</th>\n",
       "      <td>0.000000</td>\n",
       "      <td>0.000000</td>\n",
       "      <td>0.000000</td>\n",
       "      <td>0.000000</td>\n",
       "      <td>0.000000</td>\n",
       "      <td>0.000000</td>\n",
       "      <td>0.078000</td>\n",
       "      <td>21.000000</td>\n",
       "      <td>0.000000</td>\n",
       "    </tr>\n",
       "    <tr>\n",
       "      <th>25%</th>\n",
       "      <td>1.000000</td>\n",
       "      <td>99.000000</td>\n",
       "      <td>62.000000</td>\n",
       "      <td>0.000000</td>\n",
       "      <td>0.000000</td>\n",
       "      <td>27.300000</td>\n",
       "      <td>0.243750</td>\n",
       "      <td>24.000000</td>\n",
       "      <td>0.000000</td>\n",
       "    </tr>\n",
       "    <tr>\n",
       "      <th>50%</th>\n",
       "      <td>3.000000</td>\n",
       "      <td>117.000000</td>\n",
       "      <td>72.000000</td>\n",
       "      <td>23.000000</td>\n",
       "      <td>30.500000</td>\n",
       "      <td>32.000000</td>\n",
       "      <td>0.372500</td>\n",
       "      <td>29.000000</td>\n",
       "      <td>0.000000</td>\n",
       "    </tr>\n",
       "    <tr>\n",
       "      <th>75%</th>\n",
       "      <td>6.000000</td>\n",
       "      <td>140.250000</td>\n",
       "      <td>80.000000</td>\n",
       "      <td>32.000000</td>\n",
       "      <td>127.250000</td>\n",
       "      <td>36.600000</td>\n",
       "      <td>0.626250</td>\n",
       "      <td>41.000000</td>\n",
       "      <td>1.000000</td>\n",
       "    </tr>\n",
       "    <tr>\n",
       "      <th>max</th>\n",
       "      <td>17.000000</td>\n",
       "      <td>199.000000</td>\n",
       "      <td>122.000000</td>\n",
       "      <td>99.000000</td>\n",
       "      <td>846.000000</td>\n",
       "      <td>67.100000</td>\n",
       "      <td>2.420000</td>\n",
       "      <td>81.000000</td>\n",
       "      <td>1.000000</td>\n",
       "    </tr>\n",
       "  </tbody>\n",
       "</table>\n",
       "</div>"
      ],
      "text/plain": [
       "       Pregnancies     Glucose  BloodPressure  SkinThickness     Insulin  \\\n",
       "count   768.000000  768.000000     768.000000     768.000000  768.000000   \n",
       "mean      3.845052  120.894531      69.105469      20.536458   79.799479   \n",
       "std       3.369578   31.972618      19.355807      15.952218  115.244002   \n",
       "min       0.000000    0.000000       0.000000       0.000000    0.000000   \n",
       "25%       1.000000   99.000000      62.000000       0.000000    0.000000   \n",
       "50%       3.000000  117.000000      72.000000      23.000000   30.500000   \n",
       "75%       6.000000  140.250000      80.000000      32.000000  127.250000   \n",
       "max      17.000000  199.000000     122.000000      99.000000  846.000000   \n",
       "\n",
       "              BMI  DiabetesPedigreeFunction         Age     Outcome  \n",
       "count  768.000000                768.000000  768.000000  768.000000  \n",
       "mean    31.992578                  0.471876   33.240885    0.348958  \n",
       "std      7.884160                  0.331329   11.760232    0.476951  \n",
       "min      0.000000                  0.078000   21.000000    0.000000  \n",
       "25%     27.300000                  0.243750   24.000000    0.000000  \n",
       "50%     32.000000                  0.372500   29.000000    0.000000  \n",
       "75%     36.600000                  0.626250   41.000000    1.000000  \n",
       "max     67.100000                  2.420000   81.000000    1.000000  "
      ]
     },
     "execution_count": 14,
     "metadata": {},
     "output_type": "execute_result"
    }
   ],
   "source": [
    "diabetesDF.describe()"
   ]
  },
  {
   "cell_type": "code",
   "execution_count": 15,
   "metadata": {},
   "outputs": [
    {
     "data": {
      "text/plain": [
       "'\\nInferences-\\n- Most features have outliers which can be eleminated to improve model\\n- Box plot may give a better understanding of the continuous variable distribution\\n\\n- Explore how skin thickness is 0, glucose is 0, BMI is 0\\n'"
      ]
     },
     "execution_count": 15,
     "metadata": {},
     "output_type": "execute_result"
    }
   ],
   "source": [
    "\"\"\"\n",
    "Inferences-\n",
    "- Most features have outliers which can be eleminated to improve model\n",
    "- Box plot may give a better understanding of the continuous variable distribution\n",
    "\n",
    "- Explore how skin thickness is 0, glucose is 0, BMI is 0\n",
    "\"\"\""
   ]
  },
  {
   "cell_type": "code",
   "execution_count": 16,
   "metadata": {},
   "outputs": [
    {
     "data": {
      "image/png": "[encoded data removed]",
      "text/plain": [
       "<Figure size 432x288 with 1 Axes>"
      ]
     },
     "metadata": {
      "needs_background": "light"
     },
     "output_type": "display_data"
    }
   ],
   "source": [
    "boxplot = diabetesDF.boxplot(column=['Insulin'])"
   ]
  },
  {
   "cell_type": "code",
   "execution_count": 17,
   "metadata": {},
   "outputs": [],
   "source": [
    "#Skewed to towards 0 with very little data points 100+\n",
    "#Check for how many data points above 100 to optimize \n",
    "#Max data between 0 to 20: 0-7 normal, 7-11: pre-diabetic, 11+: diabetic\n"
   ]
  },
  {
   "cell_type": "code",
   "execution_count": 18,
   "metadata": {},
   "outputs": [
    {
     "data": {
      "image/png": "[encoded data removed]",
      "text/plain": [
       "<Figure size 432x288 with 1 Axes>"
      ]
     },
     "metadata": {
      "needs_background": "light"
     },
     "output_type": "display_data"
    }
   ],
   "source": [
    "boxplot = diabetesDF.boxplot(column=['Pregnancies'])"
   ]
  },
  {
   "cell_type": "code",
   "execution_count": 19,
   "metadata": {},
   "outputs": [],
   "source": [
    "#Skewed to the lower with maximum data between 1-3 births and a lot around 3-4 births"
   ]
  },
  {
   "cell_type": "code",
   "execution_count": 20,
   "metadata": {},
   "outputs": [
    {
     "data": {
      "image/png": "[encoded data removed]",
      "text/plain": [
       "<Figure size 432x288 with 1 Axes>"
      ]
     },
     "metadata": {
      "needs_background": "light"
     },
     "output_type": "display_data"
    }
   ],
   "source": [
    "boxplot = diabetesDF.boxplot(column=['Glucose'])"
   ]
  },
  {
   "cell_type": "code",
   "execution_count": 21,
   "metadata": {},
   "outputs": [],
   "source": [
    "#Good uniform distribution of data for glucose with ample highs and normals with maximum in the overlap - approx 100-140"
   ]
  },
  {
   "cell_type": "code",
   "execution_count": 22,
   "metadata": {},
   "outputs": [
    {
     "data": {
      "image/png": "[encoded data removed]",
      "text/plain": [
       "<Figure size 432x288 with 1 Axes>"
      ]
     },
     "metadata": {
      "needs_background": "light"
     },
     "output_type": "display_data"
    }
   ],
   "source": [
    "boxplot = diabetesDF.boxplot(column=['BloodPressure'])"
   ]
  },
  {
   "cell_type": "code",
   "execution_count": 23,
   "metadata": {},
   "outputs": [],
   "source": [
    "#Uniform distribution of data with good numbers in 70-80 and the rest between 65-70.\n",
    "#Most normal blood pressure. But check for co-relation between high and low bp"
   ]
  },
  {
   "cell_type": "code",
   "execution_count": 24,
   "metadata": {},
   "outputs": [
    {
     "data": {
      "image/png": "[encoded data removed]",
      "text/plain": [
       "<Figure size 432x288 with 1 Axes>"
      ]
     },
     "metadata": {
      "needs_background": "light"
     },
     "output_type": "display_data"
    }
   ],
   "source": [
    "boxplot = diabetesDF.boxplot(column=['SkinThickness'])"
   ]
  },
  {
   "cell_type": "code",
   "execution_count": 25,
   "metadata": {},
   "outputs": [],
   "source": [
    "#Skewed data towards lower spectrum with a lot of data between 25 to 33. This indicates normal to obese.\n",
    "#Check if there is co-relation between BMI and Skinthickness and eliminate one."
   ]
  },
  {
   "cell_type": "code",
   "execution_count": 26,
   "metadata": {},
   "outputs": [
    {
     "data": {
      "image/png": "[encoded data removed]",
      "text/plain": [
       "<Figure size 432x288 with 1 Axes>"
      ]
     },
     "metadata": {
      "needs_background": "light"
     },
     "output_type": "display_data"
    }
   ],
   "source": [
    "boxplot = diabetesDF.boxplot(column=['BMI'])"
   ]
  },
  {
   "cell_type": "code",
   "execution_count": 27,
   "metadata": {},
   "outputs": [],
   "source": [
    "#Uniform distribution of data with maximum data around 28 to 35 which is around normal to obese."
   ]
  },
  {
   "cell_type": "code",
   "execution_count": 28,
   "metadata": {},
   "outputs": [
    {
     "data": {
      "image/png": "[encoded data removed]",
      "text/plain": [
       "<Figure size 1368x1080 with 2 Axes>"
      ]
     },
     "metadata": {
      "needs_background": "light"
     },
     "output_type": "display_data"
    }
   ],
   "source": [
    "f = plt.figure(figsize=(19, 15))\n",
    "plt.matshow(diabetesDF.corr(), fignum=f.number)\n",
    "plt.xticks(range(diabetesDF.shape[1]), diabetesDF.columns, fontsize=14, rotation=45)\n",
    "plt.yticks(range(diabetesDF.shape[1]), diabetesDF.columns, fontsize=14)\n",
    "cb = plt.colorbar()\n",
    "cb.ax.tick_params(labelsize=14)\n",
    "plt.title('Correlation Matrix', fontsize=16);"
   ]
  },
  {
   "cell_type": "code",
   "execution_count": 29,
   "metadata": {},
   "outputs": [],
   "source": [
    "#Strong co-relations exist between:\n",
    "#Age and Pregnancies\n",
    "#Glucose and target\n",
    "#BMI and skinthickness - Check which is more accurate to target and eliminate the other\n",
    "#Insulin and skin thickness - Check if skin thickness can be eliminated and insulin and BMI retained\n",
    "#Moderate co-relation in insulin and glucose and hence outcome.\n",
    "#Moderate co-relation between BMI and outcome"
   ]
  },
  {
   "cell_type": "code",
   "execution_count": 40,
   "metadata": {},
   "outputs": [],
   "source": [
    "#Test the different models on the dataset\n",
    "def test_models(X,y):\n",
    "    #List of classifier models to test\n",
    "    classifiers = {'Gradient Boosting Classifier':GradientBoostingClassifier(),'Adaptive Boosting Classifier':AdaBoostClassifier(),'Linear Discriminant Analysis':LinearDiscriminantAnalysis(),'Logistic Regression':LogisticRegression(),'Random Forest Classifier': RandomForestClassifier(),'K Nearest Neighbour':KNeighborsClassifier(8)}\n",
    "    #Get the input variables and target variables for testing\n",
    "    data_y = y\n",
    "    data_X = X\n",
    "    #Print the headers\n",
    "    print(data_X.columns)\n",
    "    log_cols = [\"Classifier\", \"Accuracy\",\"Precision Score\",\"Recall Score\",\"F1-Score\",\"roc-auc_Score\"]\n",
    "    log = pd.DataFrame(columns=log_cols)\n",
    "    #Filter the ignore warnings\n",
    "    import warnings\n",
    "    warnings.filterwarnings('ignore')\n",
    "    #Random splitting to check over-fitting in testing the models\n",
    "    rs = StratifiedShuffleSplit(n_splits=5, test_size=0.2,random_state=0)\n",
    "    rs.get_n_splits(data_X,data_y)\n",
    "    for Name,classify in classifiers.items():\n",
    "        for train_index, test_index in rs.split(data_X,data_y):\n",
    "            X,X_test = data_X.iloc[train_index], data_X.iloc[test_index]\n",
    "            y,y_test = data_y.iloc[train_index], data_y.iloc[test_index]\n",
    "\n",
    "            cls = classify\n",
    "            cls =cls.fit(X,y)\n",
    "\n",
    "            y_out = cls.predict(X_test)\n",
    "\n",
    "            accuracy = m.accuracy_score(y_test,y_out)\n",
    "            precision = m.precision_score(y_test,y_out,average='macro')\n",
    "            recall = m.recall_score(y_test,y_out,average='macro')\n",
    "            roc_auc = roc_auc_score(y_out,y_test)\n",
    "            f1_score = m.f1_score(y_test,y_out,average='macro')\n",
    "            #conf = metrics.confusion_matrix(y, y_out)\n",
    "\n",
    "            log_entry = pd.DataFrame([[Name,accuracy,precision,recall,f1_score,roc_auc]], columns=log_cols)\n",
    "            log = log.append(log_entry)\n",
    "    print(log)\n",
    "    plt.xlabel('AUC Score')\n",
    "    plt.title('Classifier Score')\n",
    "    sns.set_color_codes(\"muted\")\n",
    "    sns.barplot(x='roc-auc_Score', y='Classifier', data=log, color=\"g\")  \n",
    "    plt.show()\n",
    "\n",
    "\n",
    "#Test  a specific model for performance\n",
    "def modelfit(alg, X, y, performCV=True, printFeatureImportance=True, cv_folds=5):\n",
    "    #Fit the algorithm on the data\n",
    "    alg.fit(X, y)\n",
    "    #Predict training set:\n",
    "    dtrain_predictions = alg.predict(X)\n",
    "    dtrain_predprob = alg.predict_proba(X)[:,1]\n",
    "    #Perform cross-validation:\n",
    "    if performCV:\n",
    "        cv_score = cross_validation.cross_val_score(alg, X, y, cv=cv_folds, scoring='roc_auc')\n",
    "    f1_score = metrics.f1_score(y,dtrain_predictions,average='macro')\n",
    "    conf = metrics.confusion_matrix(y, dtrain_predictions)\n",
    "    #Print model report:\n",
    "    print (\"\\nModel Report\")\n",
    "    print (\"Accuracy : \", metrics.accuracy_score(y.values, dtrain_predictions))\n",
    "    print (\"AUC Score (Train): \", metrics.roc_auc_score(y, dtrain_predprob))\n",
    "    print (\"F1 Score: \", f1_score)\n",
    "    print (conf)\n",
    "    if performCV:\n",
    "        print (\"CV Score Mean : \",np.mean(cv_score), \"Std: \", np.std(cv_score),\"Min: \", np.min(cv_score), \"Max: \", np.max(cv_score))   \n",
    "    #Print Feature Importance:\n",
    "    if printFeatureImportance:\n",
    "        feat_imp = pd.Series(alg.feature_importances_, X.columns).sort_values(ascending=False)\n",
    "        fig, ax = plt.subplots(figsize=(15,10))\n",
    "        feat_imp.plot(kind='bar', title='Feature Importances')\n",
    "        plt.ylabel('Feature Importance Score')\n",
    "         \n",
    "    #Plot AUC-ROC curve\n",
    "    range = [0.4, 0.3, 0.25, 0.2]\n",
    "    for t in range:\n",
    "        print (\"With a threshold of: \",t)\n",
    "        y_pred = np.copy(dtrain_predprob)\n",
    "        threshold = t\n",
    "        y_pred[dtrain_predprob >= threshold] = 1\n",
    "        y_pred[dtrain_predprob < threshold] = 0\n",
    "        print (confusion_matrix(y, y_pred))\n",
    "        \n",
    "        \n",
    "from sklearn import metrics\n",
    "\n",
    "def test_opt_model(model,X,y):\n",
    "    #Predict with best model\n",
    "    y_pred = model.predict(X)\n",
    "    y_predprob = model.predict_proba(X)[:,1]\n",
    "\n",
    "    #Score Training data\n",
    "    f1_score = metrics.f1_score(y,y_pred,average='macro')\n",
    "    conf = metrics.confusion_matrix(y, y_pred)\n",
    "    \n",
    "    #Print model report:\n",
    "    print (\"AUC Score (Train): %f\", metrics.roc_auc_score(y, y_predprob))\n",
    "    print (\"F1 Score: \", f1_score)\n",
    "    print (conf)"
   ]
  },
  {
   "cell_type": "code",
   "execution_count": 41,
   "metadata": {},
   "outputs": [],
   "source": [
    "# Separating inputs and target variables\n",
    "X = diabetesDF.drop(['Outcome'], axis=1)\n",
    "y = diabetesDF['Outcome']"
   ]
  },
  {
   "cell_type": "code",
   "execution_count": 42,
   "metadata": {},
   "outputs": [
    {
     "name": "stdout",
     "output_type": "stream",
     "text": [
      "Index(['Pregnancies', 'Glucose', 'BloodPressure', 'SkinThickness', 'Insulin',\n",
      "       'BMI', 'DiabetesPedigreeFunction', 'Age'],\n",
      "      dtype='object')\n",
      "                     Classifier  Accuracy  Precision Score  Recall Score  \\\n",
      "0  Gradient Boosting Classifier  0.818182         0.807971      0.783333   \n",
      "0  Gradient Boosting Classifier  0.753247         0.731818      0.707778   \n",
      "0  Gradient Boosting Classifier  0.792208         0.776973      0.754815   \n",
      "0  Gradient Boosting Classifier  0.720779         0.691837      0.682778   \n",
      "0  Gradient Boosting Classifier  0.785714         0.768244      0.749815   \n",
      "0  Adaptive Boosting Classifier  0.798701         0.786035      0.759815   \n",
      "0  Adaptive Boosting Classifier  0.727273         0.700893      0.675000   \n",
      "0  Adaptive Boosting Classifier  0.753247         0.729560      0.716296   \n",
      "0  Adaptive Boosting Classifier  0.714286         0.686296      0.686296   \n",
      "0  Adaptive Boosting Classifier  0.779221         0.766369      0.732037   \n",
      "0  Linear Discriminant Analysis  0.779221         0.766369      0.732037   \n",
      "0  Linear Discriminant Analysis  0.766234         0.752851      0.713519   \n",
      "0  Linear Discriminant Analysis  0.792208         0.776973      0.754815   \n",
      "0  Linear Discriminant Analysis  0.759740         0.737622      0.721296   \n",
      "0  Linear Discriminant Analysis  0.811688         0.820628      0.757037   \n",
      "0           Logistic Regression  0.792208         0.791289      0.737778   \n",
      "0           Logistic Regression  0.766234         0.760593      0.705000   \n",
      "0           Logistic Regression  0.792208         0.774961      0.759074   \n",
      "0           Logistic Regression  0.766234         0.750000      0.717778   \n",
      "0           Logistic Regression  0.792208         0.796846      0.733519   \n",
      "0      Random Forest Classifier  0.811688         0.809519      0.765556   \n",
      "0      Random Forest Classifier  0.740260         0.724341      0.676481   \n",
      "0      Random Forest Classifier  0.740260         0.719079      0.685000   \n",
      "0      Random Forest Classifier  0.772727         0.751701      0.739815   \n",
      "0      Random Forest Classifier  0.785714         0.776279      0.737037   \n",
      "0           K Nearest Neighbour  0.792208         0.786623      0.742037   \n",
      "0           K Nearest Neighbour  0.714286         0.692879      0.639444   \n",
      "0           K Nearest Neighbour  0.766234         0.750000      0.717778   \n",
      "0           K Nearest Neighbour  0.727273         0.700893      0.675000   \n",
      "0           K Nearest Neighbour  0.798701         0.792899      0.751296   \n",
      "\n",
      "   F1-Score  roc-auc_Score  \n",
      "0  0.792692       0.807971  \n",
      "0  0.715646       0.731818  \n",
      "0  0.763077       0.776973  \n",
      "0  0.686384       0.691837  \n",
      "0  0.756924       0.768244  \n",
      "0  0.769272       0.786035  \n",
      "0  0.682193       0.700893  \n",
      "0  0.721492       0.729560  \n",
      "0  0.686296       0.686296  \n",
      "0  0.742728       0.766369  \n",
      "0  0.742728       0.766369  \n",
      "0  0.724398       0.752851  \n",
      "0  0.763077       0.776973  \n",
      "0  0.727460       0.737622  \n",
      "0  0.773839       0.820628  \n",
      "0  0.752013       0.791289  \n",
      "0  0.717431       0.760593  \n",
      "0  0.765467       0.774961  \n",
      "0  0.727594       0.750000  \n",
      "0  0.748828       0.796846  \n",
      "0  0.779293       0.809519  \n",
      "0  0.686035       0.724341  \n",
      "0  0.693776       0.719079  \n",
      "0  0.744731       0.751701  \n",
      "0  0.748851       0.776279  \n",
      "0  0.755021       0.786623  \n",
      "0  0.645087       0.692879  \n",
      "0  0.727594       0.750000  \n",
      "0  0.682193       0.700893  \n",
      "0  0.764072       0.792899  \n"
     ]
    },
    {
     "data": {
      "image/png": "[encoded data removed]",
      "text/plain": [
       "<Figure size 432x288 with 1 Axes>"
      ]
     },
     "metadata": {
      "needs_background": "light"
     },
     "output_type": "display_data"
    }
   ],
   "source": [
    "#Test for the best base model for our data set\n",
    "test_models(X,y)"
   ]
  },
  {
   "cell_type": "code",
   "execution_count": 43,
   "metadata": {},
   "outputs": [
    {
     "data": {
      "text/plain": [
       "'\\nFIRST HYPOTHESIS:\\n- Select one of BMI-SkinThickness-Insulin and see how it affects the models\\n- Bracket Insulin and BP and pregnancy [LDA performs better]\\n- Try over-sampling with Diabetic data : STILL PENDING\\n\\n'"
      ]
     },
     "execution_count": 43,
     "metadata": {},
     "output_type": "execute_result"
    }
   ],
   "source": [
    "\"\"\"\n",
    "FIRST HYPOTHESIS:\n",
    "- Select one of BMI-SkinThickness-Insulin and see how it affects the models\n",
    "- Bracket Insulin and BP and pregnancy [LDA performs better]\n",
    "- Try over-sampling with Diabetic data : STILL PENDING\n",
    "\n",
    "\"\"\""
   ]
  },
  {
   "cell_type": "code",
   "execution_count": 44,
   "metadata": {},
   "outputs": [
    {
     "data": {
      "text/html": [
       "<div>\n",
       "<style scoped>\n",
       "    .dataframe tbody tr th:only-of-type {\n",
       "        vertical-align: middle;\n",
       "    }\n",
       "\n",
       "    .dataframe tbody tr th {\n",
       "        vertical-align: top;\n",
       "    }\n",
       "\n",
       "    .dataframe thead th {\n",
       "        text-align: right;\n",
       "    }\n",
       "</style>\n",
       "<table border=\"1\" class=\"dataframe\">\n",
       "  <thead>\n",
       "    <tr style=\"text-align: right;\">\n",
       "      <th></th>\n",
       "      <th>Pregnancies</th>\n",
       "      <th>Glucose</th>\n",
       "      <th>BloodPressure</th>\n",
       "      <th>SkinThickness</th>\n",
       "      <th>Insulin</th>\n",
       "      <th>BMI</th>\n",
       "      <th>DiabetesPedigreeFunction</th>\n",
       "      <th>Age</th>\n",
       "      <th>Outcome</th>\n",
       "    </tr>\n",
       "  </thead>\n",
       "  <tbody>\n",
       "    <tr>\n",
       "      <th>0</th>\n",
       "      <td>6</td>\n",
       "      <td>148</td>\n",
       "      <td>72</td>\n",
       "      <td>35</td>\n",
       "      <td>0</td>\n",
       "      <td>33.6</td>\n",
       "      <td>0.627</td>\n",
       "      <td>50</td>\n",
       "      <td>1</td>\n",
       "    </tr>\n",
       "    <tr>\n",
       "      <th>1</th>\n",
       "      <td>1</td>\n",
       "      <td>85</td>\n",
       "      <td>66</td>\n",
       "      <td>29</td>\n",
       "      <td>0</td>\n",
       "      <td>26.6</td>\n",
       "      <td>0.351</td>\n",
       "      <td>31</td>\n",
       "      <td>0</td>\n",
       "    </tr>\n",
       "    <tr>\n",
       "      <th>2</th>\n",
       "      <td>8</td>\n",
       "      <td>183</td>\n",
       "      <td>64</td>\n",
       "      <td>0</td>\n",
       "      <td>0</td>\n",
       "      <td>23.3</td>\n",
       "      <td>0.672</td>\n",
       "      <td>32</td>\n",
       "      <td>1</td>\n",
       "    </tr>\n",
       "    <tr>\n",
       "      <th>3</th>\n",
       "      <td>1</td>\n",
       "      <td>89</td>\n",
       "      <td>66</td>\n",
       "      <td>23</td>\n",
       "      <td>94</td>\n",
       "      <td>28.1</td>\n",
       "      <td>0.167</td>\n",
       "      <td>21</td>\n",
       "      <td>0</td>\n",
       "    </tr>\n",
       "    <tr>\n",
       "      <th>4</th>\n",
       "      <td>0</td>\n",
       "      <td>137</td>\n",
       "      <td>40</td>\n",
       "      <td>35</td>\n",
       "      <td>168</td>\n",
       "      <td>43.1</td>\n",
       "      <td>2.288</td>\n",
       "      <td>33</td>\n",
       "      <td>1</td>\n",
       "    </tr>\n",
       "  </tbody>\n",
       "</table>\n",
       "</div>"
      ],
      "text/plain": [
       "   Pregnancies  Glucose  BloodPressure  SkinThickness  Insulin   BMI  \\\n",
       "0            6      148             72             35        0  33.6   \n",
       "1            1       85             66             29        0  26.6   \n",
       "2            8      183             64              0        0  23.3   \n",
       "3            1       89             66             23       94  28.1   \n",
       "4            0      137             40             35      168  43.1   \n",
       "\n",
       "   DiabetesPedigreeFunction  Age  Outcome  \n",
       "0                     0.627   50        1  \n",
       "1                     0.351   31        0  \n",
       "2                     0.672   32        1  \n",
       "3                     0.167   21        0  \n",
       "4                     2.288   33        1  "
      ]
     },
     "execution_count": 44,
     "metadata": {},
     "output_type": "execute_result"
    }
   ],
   "source": [
    "#Re-loading data\n",
    "diabetesDF = pd.read_csv('diabetes.csv')\n",
    "diabetesDF.head()"
   ]
  },
  {
   "cell_type": "code",
   "execution_count": 45,
   "metadata": {},
   "outputs": [],
   "source": [
    "#sns.pairplot(diabetesDF , hue = 'Outcome')"
   ]
  },
  {
   "cell_type": "code",
   "execution_count": 46,
   "metadata": {},
   "outputs": [
    {
     "data": {
      "text/html": [
       "<div>\n",
       "<style scoped>\n",
       "    .dataframe tbody tr th:only-of-type {\n",
       "        vertical-align: middle;\n",
       "    }\n",
       "\n",
       "    .dataframe tbody tr th {\n",
       "        vertical-align: top;\n",
       "    }\n",
       "\n",
       "    .dataframe thead th {\n",
       "        text-align: right;\n",
       "    }\n",
       "</style>\n",
       "<table border=\"1\" class=\"dataframe\">\n",
       "  <thead>\n",
       "    <tr style=\"text-align: right;\">\n",
       "      <th></th>\n",
       "      <th>Glucose</th>\n",
       "      <th>SkinThickness</th>\n",
       "      <th>BMI</th>\n",
       "      <th>DiabetesPedigreeFunction</th>\n",
       "      <th>Age</th>\n",
       "      <th>Outcome</th>\n",
       "      <th>InsulinHL</th>\n",
       "      <th>BP</th>\n",
       "      <th>Preg</th>\n",
       "    </tr>\n",
       "  </thead>\n",
       "  <tbody>\n",
       "    <tr>\n",
       "      <th>0</th>\n",
       "      <td>148</td>\n",
       "      <td>35</td>\n",
       "      <td>33.6</td>\n",
       "      <td>0.627</td>\n",
       "      <td>50</td>\n",
       "      <td>1</td>\n",
       "      <td>0</td>\n",
       "      <td>2</td>\n",
       "      <td>2</td>\n",
       "    </tr>\n",
       "    <tr>\n",
       "      <th>1</th>\n",
       "      <td>85</td>\n",
       "      <td>29</td>\n",
       "      <td>26.6</td>\n",
       "      <td>0.351</td>\n",
       "      <td>31</td>\n",
       "      <td>0</td>\n",
       "      <td>0</td>\n",
       "      <td>2</td>\n",
       "      <td>1</td>\n",
       "    </tr>\n",
       "    <tr>\n",
       "      <th>2</th>\n",
       "      <td>183</td>\n",
       "      <td>0</td>\n",
       "      <td>23.3</td>\n",
       "      <td>0.672</td>\n",
       "      <td>32</td>\n",
       "      <td>1</td>\n",
       "      <td>0</td>\n",
       "      <td>2</td>\n",
       "      <td>2</td>\n",
       "    </tr>\n",
       "    <tr>\n",
       "      <th>3</th>\n",
       "      <td>89</td>\n",
       "      <td>23</td>\n",
       "      <td>28.1</td>\n",
       "      <td>0.167</td>\n",
       "      <td>21</td>\n",
       "      <td>0</td>\n",
       "      <td>5</td>\n",
       "      <td>2</td>\n",
       "      <td>1</td>\n",
       "    </tr>\n",
       "    <tr>\n",
       "      <th>4</th>\n",
       "      <td>137</td>\n",
       "      <td>35</td>\n",
       "      <td>43.1</td>\n",
       "      <td>2.288</td>\n",
       "      <td>33</td>\n",
       "      <td>1</td>\n",
       "      <td>5</td>\n",
       "      <td>2</td>\n",
       "      <td>1</td>\n",
       "    </tr>\n",
       "  </tbody>\n",
       "</table>\n",
       "</div>"
      ],
      "text/plain": [
       "   Glucose  SkinThickness   BMI  DiabetesPedigreeFunction  Age  Outcome  \\\n",
       "0      148             35  33.6                     0.627   50        1   \n",
       "1       85             29  26.6                     0.351   31        0   \n",
       "2      183              0  23.3                     0.672   32        1   \n",
       "3       89             23  28.1                     0.167   21        0   \n",
       "4      137             35  43.1                     2.288   33        1   \n",
       "\n",
       "   InsulinHL  BP  Preg  \n",
       "0          0   2     2  \n",
       "1          0   2     1  \n",
       "2          0   2     2  \n",
       "3          5   2     1  \n",
       "4          5   2     1  "
      ]
     },
     "execution_count": 46,
     "metadata": {},
     "output_type": "execute_result"
    }
   ],
   "source": [
    "#Categorizing Pregnancy and Insulin and BP\n",
    "diabetesDF['InsulinHL'] = 0\n",
    "diabetesDF.loc[(diabetesDF['Insulin'] >= 7) & (diabetesDF['Insulin'] <= 11),'InsulinHL'] = '2'\n",
    "diabetesDF.loc[diabetesDF['Insulin'] > 11,'InsulinHL'] = '5'\n",
    "diabetesDF.loc[diabetesDF['Insulin'] < 7,'InsulinHL'] = '0'\n",
    "diabetesDF.drop(diabetesDF[['Insulin']],axis=1,inplace=True)\n",
    "diabetesDF['InsulinHL']=diabetesDF[\"InsulinHL\"].astype('int64')\n",
    "diabetesDF.head()\n",
    "\n",
    "\n",
    "diabetesDF['BP'] = 0\n",
    "diabetesDF.loc[(diabetesDF['BloodPressure'] >= 80) & (diabetesDF['BloodPressure'] <= 95),'BP'] = '0'\n",
    "diabetesDF.loc[diabetesDF['BloodPressure'] > 95,'BP'] = '1'\n",
    "diabetesDF.loc[diabetesDF['BloodPressure'] < 80,'BP'] = '2'\n",
    "diabetesDF.drop(diabetesDF[['BloodPressure']],axis=1,inplace=True)\n",
    "diabetesDF['BP']=diabetesDF[\"BP\"].astype('int64')\n",
    "diabetesDF.head()\n",
    "\n",
    "\n",
    "diabetesDF['Preg'] = 0\n",
    "diabetesDF.loc[(diabetesDF['Pregnancies'] >= 2) & (diabetesDF['Pregnancies'] <= 4),'Preg'] = '0'\n",
    "diabetesDF.loc[diabetesDF['Pregnancies'] > 4,'Preg'] = '2'\n",
    "diabetesDF.loc[diabetesDF['Pregnancies'] < 2,'Preg'] = '1'\n",
    "diabetesDF.drop(diabetesDF[['Pregnancies']],axis=1,inplace=True)\n",
    "diabetesDF['Preg']=diabetesDF[\"Preg\"].astype('int64')\n",
    "diabetesDF.head()\n"
   ]
  },
  {
   "cell_type": "code",
   "execution_count": 47,
   "metadata": {},
   "outputs": [
    {
     "data": {
      "image/png": "[encoded data removed]",
      "text/plain": [
       "<Figure size 864x720 with 2 Axes>"
      ]
     },
     "metadata": {
      "needs_background": "light"
     },
     "output_type": "display_data"
    }
   ],
   "source": [
    "#Using Pearson Correlation to understand the new features\n",
    "plt.figure(figsize=(12,10))\n",
    "cor = diabetesDF.corr()\n",
    "sns.heatmap(cor, annot=True, cmap=plt.cm.Reds)\n",
    "plt.show()"
   ]
  },
  {
   "cell_type": "code",
   "execution_count": 48,
   "metadata": {},
   "outputs": [
    {
     "data": {
      "text/html": [
       "<div>\n",
       "<style scoped>\n",
       "    .dataframe tbody tr th:only-of-type {\n",
       "        vertical-align: middle;\n",
       "    }\n",
       "\n",
       "    .dataframe tbody tr th {\n",
       "        vertical-align: top;\n",
       "    }\n",
       "\n",
       "    .dataframe thead th {\n",
       "        text-align: right;\n",
       "    }\n",
       "</style>\n",
       "<table border=\"1\" class=\"dataframe\">\n",
       "  <thead>\n",
       "    <tr style=\"text-align: right;\">\n",
       "      <th></th>\n",
       "      <th>Glucose</th>\n",
       "      <th>SkinThickness</th>\n",
       "      <th>BMI</th>\n",
       "      <th>DiabetesPedigreeFunction</th>\n",
       "      <th>Age</th>\n",
       "      <th>InsulinHL</th>\n",
       "      <th>BP</th>\n",
       "      <th>Preg</th>\n",
       "    </tr>\n",
       "  </thead>\n",
       "  <tbody>\n",
       "    <tr>\n",
       "      <th>0</th>\n",
       "      <td>148</td>\n",
       "      <td>35</td>\n",
       "      <td>33.6</td>\n",
       "      <td>0.627</td>\n",
       "      <td>50</td>\n",
       "      <td>0</td>\n",
       "      <td>2</td>\n",
       "      <td>2</td>\n",
       "    </tr>\n",
       "    <tr>\n",
       "      <th>1</th>\n",
       "      <td>85</td>\n",
       "      <td>29</td>\n",
       "      <td>26.6</td>\n",
       "      <td>0.351</td>\n",
       "      <td>31</td>\n",
       "      <td>0</td>\n",
       "      <td>2</td>\n",
       "      <td>1</td>\n",
       "    </tr>\n",
       "    <tr>\n",
       "      <th>2</th>\n",
       "      <td>183</td>\n",
       "      <td>0</td>\n",
       "      <td>23.3</td>\n",
       "      <td>0.672</td>\n",
       "      <td>32</td>\n",
       "      <td>0</td>\n",
       "      <td>2</td>\n",
       "      <td>2</td>\n",
       "    </tr>\n",
       "    <tr>\n",
       "      <th>3</th>\n",
       "      <td>89</td>\n",
       "      <td>23</td>\n",
       "      <td>28.1</td>\n",
       "      <td>0.167</td>\n",
       "      <td>21</td>\n",
       "      <td>5</td>\n",
       "      <td>2</td>\n",
       "      <td>1</td>\n",
       "    </tr>\n",
       "    <tr>\n",
       "      <th>4</th>\n",
       "      <td>137</td>\n",
       "      <td>35</td>\n",
       "      <td>43.1</td>\n",
       "      <td>2.288</td>\n",
       "      <td>33</td>\n",
       "      <td>5</td>\n",
       "      <td>2</td>\n",
       "      <td>1</td>\n",
       "    </tr>\n",
       "  </tbody>\n",
       "</table>\n",
       "</div>"
      ],
      "text/plain": [
       "   Glucose  SkinThickness   BMI  DiabetesPedigreeFunction  Age  InsulinHL  BP  \\\n",
       "0      148             35  33.6                     0.627   50          0   2   \n",
       "1       85             29  26.6                     0.351   31          0   2   \n",
       "2      183              0  23.3                     0.672   32          0   2   \n",
       "3       89             23  28.1                     0.167   21          5   2   \n",
       "4      137             35  43.1                     2.288   33          5   2   \n",
       "\n",
       "   Preg  \n",
       "0     2  \n",
       "1     1  \n",
       "2     2  \n",
       "3     1  \n",
       "4     1  "
      ]
     },
     "execution_count": 48,
     "metadata": {},
     "output_type": "execute_result"
    }
   ],
   "source": [
    "# Separating inputs and target variables\n",
    "X = diabetesDF.drop(['Outcome'], axis=1)\n",
    "y = diabetesDF['Outcome']\n",
    "X.head()"
   ]
  },
  {
   "cell_type": "code",
   "execution_count": 49,
   "metadata": {},
   "outputs": [],
   "source": [
    "#Dropping SkinThickness which is similar to BMI\n",
    "X = X.drop(['SkinThickness'], axis=1)\n",
    "#X = X.drop(['Age'], axis=1)"
   ]
  },
  {
   "cell_type": "code",
   "execution_count": 50,
   "metadata": {},
   "outputs": [],
   "source": [
    "#scaler = MinMaxScaler()\n",
    "#for columns in X:\n",
    "#    X[columns] = scaler.fit_transform(X[columns].values.reshape(-1,1))\n",
    "\n",
    "#Scaling helps models like K nearest Neighbour"
   ]
  },
  {
   "cell_type": "code",
   "execution_count": 51,
   "metadata": {},
   "outputs": [
    {
     "name": "stdout",
     "output_type": "stream",
     "text": [
      "==============================\n",
      "KNeighborsClassifier\n",
      "****Results****\n",
      "Accuracy: 72.0472%\n",
      "Log Loss: 3.4500737587511927\n",
      "==============================\n",
      "SVC\n",
      "****Results****\n",
      "Accuracy: 67.3228%\n",
      "Log Loss: 0.6142690761823866\n",
      "==============================\n",
      "NuSVC\n",
      "****Results****\n",
      "Accuracy: 66.1417%\n",
      "Log Loss: 0.6122830011320277\n",
      "==============================\n",
      "DecisionTreeClassifier\n",
      "****Results****\n",
      "Accuracy: 68.1102%\n",
      "Log Loss: 11.014334204676242\n",
      "==============================\n",
      "RandomForestClassifier\n",
      "****Results****\n",
      "Accuracy: 73.2283%\n",
      "Log Loss: 0.7671120618801238\n",
      "==============================\n",
      "AdaBoostClassifier\n",
      "****Results****\n",
      "Accuracy: 78.3465%\n",
      "Log Loss: 0.676371859607457\n",
      "==============================\n",
      "GradientBoostingClassifier\n",
      "****Results****\n",
      "Accuracy: 79.1339%\n",
      "Log Loss: 0.5078058889009278\n",
      "==============================\n",
      "GaussianNB\n",
      "****Results****\n",
      "Accuracy: 73.2283%\n",
      "Log Loss: 0.5444949690097256\n",
      "==============================\n",
      "LinearDiscriminantAnalysis\n",
      "****Results****\n",
      "Accuracy: 73.6220%\n",
      "Log Loss: 0.49058439140118326\n",
      "==============================\n",
      "QuadraticDiscriminantAnalysis\n",
      "****Results****\n",
      "Accuracy: 73.6220%\n",
      "Log Loss: 0.533592091825235\n",
      "==============================\n"
     ]
    }
   ],
   "source": [
    "X_train, X_test, y_train, y_test = train_test_split(X, y, test_size=0.33, random_state=19)\n",
    "\n",
    "\n",
    "from sklearn.metrics import accuracy_score, log_loss\n",
    "from sklearn.neighbors import KNeighborsClassifier\n",
    "from sklearn.svm import SVC, LinearSVC, NuSVC\n",
    "from sklearn.tree import DecisionTreeClassifier\n",
    "from sklearn.ensemble import RandomForestClassifier, AdaBoostClassifier, GradientBoostingClassifier\n",
    "from sklearn.naive_bayes import GaussianNB\n",
    "from sklearn.discriminant_analysis import LinearDiscriminantAnalysis\n",
    "from sklearn.discriminant_analysis import QuadraticDiscriminantAnalysis\n",
    "\n",
    "classifiers = [\n",
    "    KNeighborsClassifier(3),\n",
    "    SVC(kernel=\"rbf\", C=0.025, probability=True),\n",
    "    NuSVC(probability=True),\n",
    "    DecisionTreeClassifier(),\n",
    "    RandomForestClassifier(),\n",
    "    AdaBoostClassifier(),\n",
    "    GradientBoostingClassifier(),\n",
    "    GaussianNB(),\n",
    "    LinearDiscriminantAnalysis(),\n",
    "    QuadraticDiscriminantAnalysis()]\n",
    "\n",
    "# Logging for Visual Comparison\n",
    "log_cols=[\"Classifier\", \"Accuracy\", \"Log Loss\"]\n",
    "log = pd.DataFrame(columns=log_cols)\n",
    "\n",
    "for clf in classifiers:\n",
    "    clf.fit(X_train, y_train)\n",
    "    name = clf.__class__.__name__\n",
    "    \n",
    "    print(\"=\"*30)\n",
    "    print(name)\n",
    "    \n",
    "    print('****Results****')\n",
    "    train_predictions = clf.predict(X_test)\n",
    "    acc = accuracy_score(y_test, train_predictions)\n",
    "    print(\"Accuracy: {:.4%}\".format(acc))\n",
    "    \n",
    "    train_predictions = clf.predict_proba(X_test)\n",
    "    ll = log_loss(y_test, train_predictions)\n",
    "    print(\"Log Loss: {}\".format(ll))\n",
    "    \n",
    "    log_entry = pd.DataFrame([[name, acc*100, ll]], columns=log_cols)\n",
    "    log = log.append(log_entry)\n",
    "    \n",
    "print(\"=\"*30)\n",
    "\n",
    "#Feature importance\n",
    "def features(model,X):\n",
    "    coeff = list(model.coef_[0])\n",
    "    labels = list(X)\n",
    "    features = pd.DataFrame()\n",
    "    features['Features'] = labels\n",
    "    features['importance'] = coeff\n",
    "    features.sort_values(by=['importance'], ascending=True, inplace=True)\n",
    "    features['positive'] = features['importance'] > 0\n",
    "    features.set_index('Features', inplace=True)\n",
    "    features.importance.plot(kind='barh', figsize=(11, 6),color = features.positive.map({True: 'blue', False: 'red'}))\n",
    "    plt.xlabel('Importance')"
   ]
  },
  {
   "cell_type": "code",
   "execution_count": 52,
   "metadata": {},
   "outputs": [
    {
     "name": "stdout",
     "output_type": "stream",
     "text": [
      "Index(['Glucose', 'BMI', 'DiabetesPedigreeFunction', 'Age', 'InsulinHL', 'BP',\n",
      "       'Preg'],\n",
      "      dtype='object')\n",
      "                     Classifier  Accuracy  Precision Score  Recall Score  \\\n",
      "0  Gradient Boosting Classifier  0.805195         0.795455      0.764815   \n",
      "0  Gradient Boosting Classifier  0.746753         0.723242      0.702778   \n",
      "0  Gradient Boosting Classifier  0.811688         0.798867      0.778333   \n",
      "0  Gradient Boosting Classifier  0.753247         0.729038      0.720556   \n",
      "0  Gradient Boosting Classifier  0.779221         0.763636      0.736296   \n",
      "0  Adaptive Boosting Classifier  0.798701         0.789126      0.755556   \n",
      "0  Adaptive Boosting Classifier  0.753247         0.731818      0.707778   \n",
      "0  Adaptive Boosting Classifier  0.759740         0.736735      0.725556   \n",
      "0  Adaptive Boosting Classifier  0.701299         0.673469      0.676296   \n",
      "0  Adaptive Boosting Classifier  0.831169         0.823470      0.797593   \n",
      "0  Linear Discriminant Analysis  0.779221         0.769737      0.727778   \n",
      "0  Linear Discriminant Analysis  0.733766         0.713906      0.671481   \n",
      "0  Linear Discriminant Analysis  0.811688         0.798867      0.778333   \n",
      "0  Linear Discriminant Analysis  0.759740         0.738940      0.717037   \n",
      "0  Linear Discriminant Analysis  0.792208         0.791289      0.737778   \n",
      "0           Logistic Regression  0.779221         0.778719      0.719259   \n",
      "0           Logistic Regression  0.727273         0.709069      0.657963   \n",
      "0           Logistic Regression  0.805195         0.799107      0.760556   \n",
      "0           Logistic Regression  0.753247         0.735965      0.699259   \n",
      "0           Logistic Regression  0.785714         0.790756      0.724259   \n",
      "0      Random Forest Classifier  0.811688         0.805259      0.769815   \n",
      "0      Random Forest Classifier  0.727273         0.712602      0.653704   \n",
      "0      Random Forest Classifier  0.753247         0.733631      0.703519   \n",
      "0      Random Forest Classifier  0.688312         0.651786      0.632222   \n",
      "0      Random Forest Classifier  0.740260         0.721416      0.680741   \n",
      "0           K Nearest Neighbour  0.779221         0.784559      0.715000   \n",
      "0           K Nearest Neighbour  0.694805         0.660089      0.632963   \n",
      "0           K Nearest Neighbour  0.811688         0.820628      0.757037   \n",
      "0           K Nearest Neighbour  0.727273         0.702193      0.670741   \n",
      "0           K Nearest Neighbour  0.759740         0.758953      0.691481   \n",
      "\n",
      "   F1-Score  roc-auc_Score  \n",
      "0  0.775510       0.795455  \n",
      "0  0.709729       0.723242  \n",
      "0  0.786387       0.798867  \n",
      "0  0.724170       0.729038  \n",
      "0  0.745578       0.763636  \n",
      "0  0.766746       0.789126  \n",
      "0  0.715646       0.731818  \n",
      "0  0.730144       0.736735  \n",
      "0  0.674747       0.673469  \n",
      "0  0.807500       0.823470  \n",
      "0  0.739710       0.769737  \n",
      "0  0.680255       0.713906  \n",
      "0  0.786387       0.798867  \n",
      "0  0.724615       0.738940  \n",
      "0  0.752013       0.791289  \n",
      "0  0.733129       0.778719  \n",
      "0  0.665909       0.709069  \n",
      "0  0.772995       0.799107  \n",
      "0  0.709087       0.735965  \n",
      "0  0.739264       0.790756  \n",
      "0  0.781795       0.805259  \n",
      "0  0.661219       0.712602  \n",
      "0  0.712461       0.733631  \n",
      "0  0.636792       0.651786  \n",
      "0  0.690016       0.721416  \n",
      "0  0.729545       0.784559  \n",
      "0  0.638010       0.660089  \n",
      "0  0.773839       0.820628  \n",
      "0  0.678465       0.702193  \n",
      "0  0.703646       0.758953  \n"
     ]
    },
    {
     "data": {
      "image/png": "[encoded data removed]",
      "text/plain": [
       "<Figure size 432x288 with 1 Axes>"
      ]
     },
     "metadata": {
      "needs_background": "light"
     },
     "output_type": "display_data"
    }
   ],
   "source": [
    "#Test for the best base model for our data set\n",
    "test_models(X,y)"
   ]
  },
  {
   "cell_type": "code",
   "execution_count": 53,
   "metadata": {},
   "outputs": [],
   "source": [
    "#Split into Training and test data\n",
    "X_train, X_test, y_train, y_test = train_test_split(X, y, test_size=0.2, random_state=42)\n",
    "\n",
    "#Gradient Boosting algorithm is best suited. Lets tune the hyper-parameters\n",
    "#Choose all predictors except target & IDcols\n",
    "\"\"\"\n",
    "target = 'Outcome'\n",
    "predictors = [x for x in X_train.columns if x not in [target]]\n",
    "param_test1 = {'n_estimators':range(30,101,5)}\n",
    "gsearch1 = GridSearchCV(estimator = GradientBoostingClassifier(learning_rate=0.02, min_samples_split=500,min_samples_leaf=50,max_depth=8,subsample=0.8,random_state=10), \n",
    "param_grid = param_test1, scoring='roc_auc',n_jobs=4,iid=False, cv=5)\n",
    "gsearch1.fit(X_train,y_train)\n",
    "gsearch1.grid_scores_, gsearch1.best_params_, gsearch1.best_score_\n",
    "\"\"\"\n",
    "model = GradientBoostingClassifier(n_estimators= 40,learning_rate=0.1, min_samples_split=200,min_samples_leaf=50,max_depth=4,subsample=0.8,random_state=10)\n",
    "model = model.fit(X_train, y_train)"
   ]
  },
  {
   "cell_type": "code",
   "execution_count": 54,
   "metadata": {},
   "outputs": [
    {
     "name": "stdout",
     "output_type": "stream",
     "text": [
      "AUC Score (Train): %f 0.8123048668503214\n",
      "F1 Score:  0.7493839215139257\n",
      "[[83 16]\n",
      " [19 36]]\n"
     ]
    }
   ],
   "source": [
    "test_opt_model(model,X_test,y_test)"
   ]
  },
  {
   "cell_type": "code",
   "execution_count": null,
   "metadata": {},
   "outputs": [],
   "source": []
  },
  {
   "cell_type": "code",
   "execution_count": null,
   "metadata": {
    "collapsed": true,
    "jupyter": {
     "outputs_hidden": true
    }
   },
   "outputs": [],
   "source": []
  },
  {
   "cell_type": "code",
   "execution_count": null,
   "metadata": {},
   "outputs": [],
   "source": []
  }
 ],
 "metadata": {
  "anaconda-cloud": {},
  "kernelspec": {
   "display_name": "Python 3",
   "language": "python",
   "name": "python3"
  },
  "language_info": {
   "codemirror_mode": {
    "name": "ipython",
    "version": 3
   },
   "file_extension": ".py",
   "mimetype": "text/x-python",
   "name": "python",
   "nbconvert_exporter": "python",
   "pygments_lexer": "ipython3",
   "version": "3.7.3"
  }
 },
 "nbformat": 4,
 "nbformat_minor": 4
}
