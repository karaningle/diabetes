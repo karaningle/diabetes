{
 "cells": [
  {
   "cell_type": "code",
   "execution_count": 9,
   "metadata": {},
   "outputs": [],
   "source": [
    "import warnings\n",
    "warnings.filterwarnings('ignore')\n",
    "\n",
    "import pandas as pd\n",
    "import numpy as np\n",
    "import seaborn as sns\n",
    "import matplotlib.pyplot as plt\n",
    "%matplotlib inline\n",
    "\n",
    "#sklearn\n",
    "from sklearn.model_selection import train_test_split\n",
    "from sklearn import ensemble\n",
    "from sklearn import preprocessing\n",
    "from sklearn.metrics import roc_auc_score,accuracy_score,f1_score,recall_score,confusion_matrix,precision_score\n",
    "from sklearn.preprocessing import StandardScaler, MinMaxScaler\n",
    "from sklearn.neighbors import KNeighborsClassifier\n",
    "from sklearn.svm import SVC\n",
    "from sklearn.tree import DecisionTreeClassifier\n",
    "from sklearn.ensemble import RandomForestClassifier, AdaBoostClassifier, GradientBoostingClassifier\n",
    "from sklearn.naive_bayes import GaussianNB\n",
    "from sklearn.discriminant_analysis import LinearDiscriminantAnalysis\n",
    "from sklearn.linear_model import LogisticRegression\n",
    "from sklearn import metrics as m\n",
    "from sklearn.model_selection import StratifiedShuffleSplit\n",
    "from sklearn.model_selection import ShuffleSplit\n",
    "#from sklearn.model_selection import cross_validation   #Additional sklearn functions\n",
    "from sklearn.model_selection import RandomizedSearchCV\n",
    "from sklearn.model_selection import GridSearchCV\n",
    "from sklearn.preprocessing import LabelEncoder\n",
    "from sklearn.linear_model import LogisticRegression\n",
    "from sklearn.svm import SVC\n",
    "from sklearn.externals import joblib"
   ]
  },
  {
   "cell_type": "code",
   "execution_count": 10,
   "metadata": {},
   "outputs": [
    {
     "data": {
      "text/plain": [
       "'\\nDataset information:\\n\\nThis dataset is originally from the National Institute of Diabetes and Digestive and Kidney Diseases.\\nAll patients here are females at least 21 years old of Pima Indian heritage.\\n\\n\\nPregnancies: Number of times pregnant - Continuous var\\n\\nGlucose: Plasma glucose concentration a 2 hours in an oral glucose tolerance test - Continuous var\\n\\nBloodPressure: Diastolic blood pressure (mm Hg) [Normal is 90 - Can be converted to categorical] - Continuous var\\n\\nSkinThickness: Triceps skin fold thickness (mm) - Continuous var\\n\\nInsulin: 2-Hour serum insulin (mu U/ml) - Continuous var\\n\\nBMI: Body mass index (weight in kg/(height in m)^2) - Continuous var [Can be converted to categorical]\\n\\nDiabetesPedigreeFunction: Diabetes pedigree function - Continuous var\\n\\nAge: Age (years) - Continuous var\\n\\nOutcome: Class variable (0 or 1) - Categorical target var\\n\\n'"
      ]
     },
     "execution_count": 10,
     "metadata": {},
     "output_type": "execute_result"
    }
   ],
   "source": [
    "\"\"\"\n",
    "Dataset information:\n",
    "\n",
    "This dataset is originally from the National Institute of Diabetes and Digestive and Kidney Diseases.\n",
    "All patients here are females at least 21 years old of Pima Indian heritage.\n",
    "\n",
    "\n",
    "Pregnancies: Number of times pregnant - Continuous var\n",
    "\n",
    "Glucose: Plasma glucose concentration a 2 hours in an oral glucose tolerance test - Continuous var\n",
    "\n",
    "BloodPressure: Diastolic blood pressure (mm Hg) [Normal is 90 - Can be converted to categorical] - Continuous var\n",
    "\n",
    "SkinThickness: Triceps skin fold thickness (mm) - Continuous var\n",
    "\n",
    "Insulin: 2-Hour serum insulin (mu U/ml) - Continuous var\n",
    "\n",
    "BMI: Body mass index (weight in kg/(height in m)^2) - Continuous var [Can be converted to categorical]\n",
    "\n",
    "DiabetesPedigreeFunction: Diabetes pedigree function - Continuous var\n",
    "\n",
    "Age: Age (years) - Continuous var\n",
    "\n",
    "Outcome: Class variable (0 or 1) - Categorical target var\n",
    "\n",
    "\"\"\""
   ]
  },
  {
   "cell_type": "code",
   "execution_count": 309,
   "metadata": {},
   "outputs": [
    {
     "data": {
      "text/html": [
       "<div>\n",
       "<style scoped>\n",
       "    .dataframe tbody tr th:only-of-type {\n",
       "        vertical-align: middle;\n",
       "    }\n",
       "\n",
       "    .dataframe tbody tr th {\n",
       "        vertical-align: top;\n",
       "    }\n",
       "\n",
       "    .dataframe thead th {\n",
       "        text-align: right;\n",
       "    }\n",
       "</style>\n",
       "<table border=\"1\" class=\"dataframe\">\n",
       "  <thead>\n",
       "    <tr style=\"text-align: right;\">\n",
       "      <th></th>\n",
       "      <th>Pregnancies</th>\n",
       "      <th>Glucose</th>\n",
       "      <th>BloodPressure</th>\n",
       "      <th>SkinThickness</th>\n",
       "      <th>Insulin</th>\n",
       "      <th>BMI</th>\n",
       "      <th>DiabetesPedigreeFunction</th>\n",
       "      <th>Age</th>\n",
       "      <th>Outcome</th>\n",
       "    </tr>\n",
       "  </thead>\n",
       "  <tbody>\n",
       "    <tr>\n",
       "      <th>0</th>\n",
       "      <td>6</td>\n",
       "      <td>148</td>\n",
       "      <td>72</td>\n",
       "      <td>35</td>\n",
       "      <td>0</td>\n",
       "      <td>33.6</td>\n",
       "      <td>0.627</td>\n",
       "      <td>50</td>\n",
       "      <td>1</td>\n",
       "    </tr>\n",
       "    <tr>\n",
       "      <th>1</th>\n",
       "      <td>1</td>\n",
       "      <td>85</td>\n",
       "      <td>66</td>\n",
       "      <td>29</td>\n",
       "      <td>0</td>\n",
       "      <td>26.6</td>\n",
       "      <td>0.351</td>\n",
       "      <td>31</td>\n",
       "      <td>0</td>\n",
       "    </tr>\n",
       "    <tr>\n",
       "      <th>2</th>\n",
       "      <td>8</td>\n",
       "      <td>183</td>\n",
       "      <td>64</td>\n",
       "      <td>0</td>\n",
       "      <td>0</td>\n",
       "      <td>23.3</td>\n",
       "      <td>0.672</td>\n",
       "      <td>32</td>\n",
       "      <td>1</td>\n",
       "    </tr>\n",
       "    <tr>\n",
       "      <th>3</th>\n",
       "      <td>1</td>\n",
       "      <td>89</td>\n",
       "      <td>66</td>\n",
       "      <td>23</td>\n",
       "      <td>94</td>\n",
       "      <td>28.1</td>\n",
       "      <td>0.167</td>\n",
       "      <td>21</td>\n",
       "      <td>0</td>\n",
       "    </tr>\n",
       "    <tr>\n",
       "      <th>4</th>\n",
       "      <td>0</td>\n",
       "      <td>137</td>\n",
       "      <td>40</td>\n",
       "      <td>35</td>\n",
       "      <td>168</td>\n",
       "      <td>43.1</td>\n",
       "      <td>2.288</td>\n",
       "      <td>33</td>\n",
       "      <td>1</td>\n",
       "    </tr>\n",
       "  </tbody>\n",
       "</table>\n",
       "</div>"
      ],
      "text/plain": [
       "   Pregnancies  Glucose  BloodPressure  SkinThickness  Insulin   BMI  \\\n",
       "0            6      148             72             35        0  33.6   \n",
       "1            1       85             66             29        0  26.6   \n",
       "2            8      183             64              0        0  23.3   \n",
       "3            1       89             66             23       94  28.1   \n",
       "4            0      137             40             35      168  43.1   \n",
       "\n",
       "   DiabetesPedigreeFunction  Age  Outcome  \n",
       "0                     0.627   50        1  \n",
       "1                     0.351   31        0  \n",
       "2                     0.672   32        1  \n",
       "3                     0.167   21        0  \n",
       "4                     2.288   33        1  "
      ]
     },
     "execution_count": 309,
     "metadata": {},
     "output_type": "execute_result"
    }
   ],
   "source": [
    "diabetesDF = pd.read_csv('diabetes.csv')\n",
    "diabetesDF.head()"
   ]
  },
  {
   "cell_type": "code",
   "execution_count": 310,
   "metadata": {},
   "outputs": [
    {
     "name": "stdout",
     "output_type": "stream",
     "text": [
      "<class 'pandas.core.frame.DataFrame'>\n",
      "RangeIndex: 768 entries, 0 to 767\n",
      "Data columns (total 9 columns):\n",
      "Pregnancies                 768 non-null int64\n",
      "Glucose                     768 non-null int64\n",
      "BloodPressure               768 non-null int64\n",
      "SkinThickness               768 non-null int64\n",
      "Insulin                     768 non-null int64\n",
      "BMI                         768 non-null float64\n",
      "DiabetesPedigreeFunction    768 non-null float64\n",
      "Age                         768 non-null int64\n",
      "Outcome                     768 non-null int64\n",
      "dtypes: float64(2), int64(7)\n",
      "memory usage: 54.1 KB\n"
     ]
    }
   ],
   "source": [
    "diabetesDF.info()"
   ]
  },
  {
   "cell_type": "code",
   "execution_count": 311,
   "metadata": {},
   "outputs": [
    {
     "data": {
      "text/plain": [
       "1     135\n",
       "0     111\n",
       "2     103\n",
       "3      75\n",
       "4      68\n",
       "5      57\n",
       "6      50\n",
       "7      45\n",
       "8      38\n",
       "9      28\n",
       "10     24\n",
       "11     11\n",
       "13     10\n",
       "12      9\n",
       "14      2\n",
       "15      1\n",
       "17      1\n",
       "Name: Pregnancies, dtype: int64"
      ]
     },
     "execution_count": 311,
     "metadata": {},
     "output_type": "execute_result"
    }
   ],
   "source": [
    "#Conclusion-Clean data with no missing elements.\n",
    "diabetesDF[\"Pregnancies\"].value_counts()"
   ]
  },
  {
   "cell_type": "code",
   "execution_count": 14,
   "metadata": {},
   "outputs": [
    {
     "data": {
      "text/html": [
       "<div>\n",
       "<style scoped>\n",
       "    .dataframe tbody tr th:only-of-type {\n",
       "        vertical-align: middle;\n",
       "    }\n",
       "\n",
       "    .dataframe tbody tr th {\n",
       "        vertical-align: top;\n",
       "    }\n",
       "\n",
       "    .dataframe thead th {\n",
       "        text-align: right;\n",
       "    }\n",
       "</style>\n",
       "<table border=\"1\" class=\"dataframe\">\n",
       "  <thead>\n",
       "    <tr style=\"text-align: right;\">\n",
       "      <th></th>\n",
       "      <th>Pregnancies</th>\n",
       "      <th>Glucose</th>\n",
       "      <th>BloodPressure</th>\n",
       "      <th>SkinThickness</th>\n",
       "      <th>Insulin</th>\n",
       "      <th>BMI</th>\n",
       "      <th>DiabetesPedigreeFunction</th>\n",
       "      <th>Age</th>\n",
       "      <th>Outcome</th>\n",
       "    </tr>\n",
       "  </thead>\n",
       "  <tbody>\n",
       "    <tr>\n",
       "      <th>count</th>\n",
       "      <td>768.000000</td>\n",
       "      <td>768.000000</td>\n",
       "      <td>768.000000</td>\n",
       "      <td>768.000000</td>\n",
       "      <td>768.000000</td>\n",
       "      <td>768.000000</td>\n",
       "      <td>768.000000</td>\n",
       "      <td>768.000000</td>\n",
       "      <td>768.000000</td>\n",
       "    </tr>\n",
       "    <tr>\n",
       "      <th>mean</th>\n",
       "      <td>3.845052</td>\n",
       "      <td>120.894531</td>\n",
       "      <td>69.105469</td>\n",
       "      <td>20.536458</td>\n",
       "      <td>79.799479</td>\n",
       "      <td>31.992578</td>\n",
       "      <td>0.471876</td>\n",
       "      <td>33.240885</td>\n",
       "      <td>0.348958</td>\n",
       "    </tr>\n",
       "    <tr>\n",
       "      <th>std</th>\n",
       "      <td>3.369578</td>\n",
       "      <td>31.972618</td>\n",
       "      <td>19.355807</td>\n",
       "      <td>15.952218</td>\n",
       "      <td>115.244002</td>\n",
       "      <td>7.884160</td>\n",
       "      <td>0.331329</td>\n",
       "      <td>11.760232</td>\n",
       "      <td>0.476951</td>\n",
       "    </tr>\n",
       "    <tr>\n",
       "      <th>min</th>\n",
       "      <td>0.000000</td>\n",
       "      <td>0.000000</td>\n",
       "      <td>0.000000</td>\n",
       "      <td>0.000000</td>\n",
       "      <td>0.000000</td>\n",
       "      <td>0.000000</td>\n",
       "      <td>0.078000</td>\n",
       "      <td>21.000000</td>\n",
       "      <td>0.000000</td>\n",
       "    </tr>\n",
       "    <tr>\n",
       "      <th>25%</th>\n",
       "      <td>1.000000</td>\n",
       "      <td>99.000000</td>\n",
       "      <td>62.000000</td>\n",
       "      <td>0.000000</td>\n",
       "      <td>0.000000</td>\n",
       "      <td>27.300000</td>\n",
       "      <td>0.243750</td>\n",
       "      <td>24.000000</td>\n",
       "      <td>0.000000</td>\n",
       "    </tr>\n",
       "    <tr>\n",
       "      <th>50%</th>\n",
       "      <td>3.000000</td>\n",
       "      <td>117.000000</td>\n",
       "      <td>72.000000</td>\n",
       "      <td>23.000000</td>\n",
       "      <td>30.500000</td>\n",
       "      <td>32.000000</td>\n",
       "      <td>0.372500</td>\n",
       "      <td>29.000000</td>\n",
       "      <td>0.000000</td>\n",
       "    </tr>\n",
       "    <tr>\n",
       "      <th>75%</th>\n",
       "      <td>6.000000</td>\n",
       "      <td>140.250000</td>\n",
       "      <td>80.000000</td>\n",
       "      <td>32.000000</td>\n",
       "      <td>127.250000</td>\n",
       "      <td>36.600000</td>\n",
       "      <td>0.626250</td>\n",
       "      <td>41.000000</td>\n",
       "      <td>1.000000</td>\n",
       "    </tr>\n",
       "    <tr>\n",
       "      <th>max</th>\n",
       "      <td>17.000000</td>\n",
       "      <td>199.000000</td>\n",
       "      <td>122.000000</td>\n",
       "      <td>99.000000</td>\n",
       "      <td>846.000000</td>\n",
       "      <td>67.100000</td>\n",
       "      <td>2.420000</td>\n",
       "      <td>81.000000</td>\n",
       "      <td>1.000000</td>\n",
       "    </tr>\n",
       "  </tbody>\n",
       "</table>\n",
       "</div>"
      ],
      "text/plain": [
       "       Pregnancies     Glucose  BloodPressure  SkinThickness     Insulin  \\\n",
       "count   768.000000  768.000000     768.000000     768.000000  768.000000   \n",
       "mean      3.845052  120.894531      69.105469      20.536458   79.799479   \n",
       "std       3.369578   31.972618      19.355807      15.952218  115.244002   \n",
       "min       0.000000    0.000000       0.000000       0.000000    0.000000   \n",
       "25%       1.000000   99.000000      62.000000       0.000000    0.000000   \n",
       "50%       3.000000  117.000000      72.000000      23.000000   30.500000   \n",
       "75%       6.000000  140.250000      80.000000      32.000000  127.250000   \n",
       "max      17.000000  199.000000     122.000000      99.000000  846.000000   \n",
       "\n",
       "              BMI  DiabetesPedigreeFunction         Age     Outcome  \n",
       "count  768.000000                768.000000  768.000000  768.000000  \n",
       "mean    31.992578                  0.471876   33.240885    0.348958  \n",
       "std      7.884160                  0.331329   11.760232    0.476951  \n",
       "min      0.000000                  0.078000   21.000000    0.000000  \n",
       "25%     27.300000                  0.243750   24.000000    0.000000  \n",
       "50%     32.000000                  0.372500   29.000000    0.000000  \n",
       "75%     36.600000                  0.626250   41.000000    1.000000  \n",
       "max     67.100000                  2.420000   81.000000    1.000000  "
      ]
     },
     "execution_count": 14,
     "metadata": {},
     "output_type": "execute_result"
    }
   ],
   "source": [
    "diabetesDF.describe()\n"
   ]
  },
  {
   "cell_type": "code",
   "execution_count": 15,
   "metadata": {},
   "outputs": [
    {
     "data": {
      "text/plain": [
       "'\\nInferences-\\n- Most features have outliers which can be eleminated to improve model\\n- Box plot may give a better understanding of the continuous variable distribution\\n\\n- Explore how skin thickness is 0, glucose is 0, BMI is 0\\n'"
      ]
     },
     "execution_count": 15,
     "metadata": {},
     "output_type": "execute_result"
    }
   ],
   "source": [
    "\"\"\"\n",
    "Inferences-\n",
    "- Most features have outliers which can be eleminated to improve model\n",
    "- Box plot may give a better understanding of the continuous variable distribution\n",
    "- Explore how skin thickness is 0, glucose is 0, BMI is 0\n",
    "\"\"\""
   ]
  },
  {
   "cell_type": "code",
   "execution_count": 16,
   "metadata": {},
   "outputs": [
    {
     "data": {
      "image/png": "[encoded data removed]",
      "text/plain": [
       "<Figure size 432x288 with 1 Axes>"
      ]
     },
     "metadata": {
      "needs_background": "light"
     },
     "output_type": "display_data"
    }
   ],
   "source": [
    "boxplot = diabetesDF.boxplot(column=['Insulin'])"
   ]
  },
  {
   "cell_type": "code",
   "execution_count": 17,
   "metadata": {},
   "outputs": [],
   "source": [
    "#Skewed to towards 0 with very little data points 100+\n",
    "#Check for how many data points above 100 to optimize \n",
    "#Max data between 0 to 20: 0-7 normal, 7-11: pre-diabetic, 11+: diabetic\n"
   ]
  },
  {
   "cell_type": "code",
   "execution_count": 18,
   "metadata": {},
   "outputs": [
    {
     "data": {
      "image/png": "[encoded data removed]",
      "text/plain": [
       "<Figure size 432x288 with 1 Axes>"
      ]
     },
     "metadata": {
      "needs_background": "light"
     },
     "output_type": "display_data"
    }
   ],
   "source": [
    "boxplot = diabetesDF.boxplot(column=['Pregnancies'])"
   ]
  },
  {
   "cell_type": "code",
   "execution_count": 19,
   "metadata": {},
   "outputs": [],
   "source": [
    "#Skewed to the lower with maximum data between 1-3 births and a lot around 3-4 births"
   ]
  },
  {
   "cell_type": "code",
   "execution_count": 20,
   "metadata": {},
   "outputs": [
    {
     "data": {
      "image/png": "[encoded data removed]",
      "text/plain": [
       "<Figure size 432x288 with 1 Axes>"
      ]
     },
     "metadata": {
      "needs_background": "light"
     },
     "output_type": "display_data"
    }
   ],
   "source": [
    "boxplot = diabetesDF.boxplot(column=['Glucose'])"
   ]
  },
  {
   "cell_type": "code",
   "execution_count": 21,
   "metadata": {},
   "outputs": [],
   "source": [
    "#Good uniform distribution of data for glucose with ample highs and normals with maximum in the overlap - approx 100-140"
   ]
  },
  {
   "cell_type": "code",
   "execution_count": 22,
   "metadata": {},
   "outputs": [
    {
     "data": {
      "image/png": "[encoded data removed]",
      "text/plain": [
       "<Figure size 432x288 with 1 Axes>"
      ]
     },
     "metadata": {
      "needs_background": "light"
     },
     "output_type": "display_data"
    }
   ],
   "source": [
    "boxplot = diabetesDF.boxplot(column=['BloodPressure'])"
   ]
  },
  {
   "cell_type": "code",
   "execution_count": 23,
   "metadata": {},
   "outputs": [],
   "source": [
    "#Uniform distribution of data with good numbers in 70-80 and the rest between 65-70.\n",
    "#Most normal blood pressure. But check for co-relation between high and low bp"
   ]
  },
  {
   "cell_type": "code",
   "execution_count": 24,
   "metadata": {},
   "outputs": [
    {
     "data": {
      "image/png": "[encoded data removed]",
      "text/plain": [
       "<Figure size 432x288 with 1 Axes>"
      ]
     },
     "metadata": {
      "needs_background": "light"
     },
     "output_type": "display_data"
    }
   ],
   "source": [
    "boxplot = diabetesDF.boxplot(column=['SkinThickness'])"
   ]
  },
  {
   "cell_type": "code",
   "execution_count": 25,
   "metadata": {},
   "outputs": [],
   "source": [
    "#Skewed data towards lower spectrum with a lot of data between 25 to 33. This indicates normal to obese.\n",
    "#Check if there is co-relation between BMI and Skinthickness and eliminate one."
   ]
  },
  {
   "cell_type": "code",
   "execution_count": 26,
   "metadata": {},
   "outputs": [
    {
     "data": {
      "image/png": "[encoded data removed]",
      "text/plain": [
       "<Figure size 432x288 with 1 Axes>"
      ]
     },
     "metadata": {
      "needs_background": "light"
     },
     "output_type": "display_data"
    }
   ],
   "source": [
    "boxplot = diabetesDF.boxplot(column=['BMI'])"
   ]
  },
  {
   "cell_type": "code",
   "execution_count": 27,
   "metadata": {},
   "outputs": [],
   "source": [
    "#Uniform distribution of data with maximum data around 28 to 35 which is around normal to obese."
   ]
  },
  {
   "cell_type": "code",
   "execution_count": 28,
   "metadata": {},
   "outputs": [
    {
     "data": {
      "image/png": "[encoded data removed]",
      "text/plain": [
       "<Figure size 1368x1080 with 2 Axes>"
      ]
     },
     "metadata": {
      "needs_background": "light"
     },
     "output_type": "display_data"
    }
   ],
   "source": [
    "f = plt.figure(figsize=(19, 15))\n",
    "plt.matshow(diabetesDF.corr(), fignum=f.number)\n",
    "plt.xticks(range(diabetesDF.shape[1]), diabetesDF.columns, fontsize=14, rotation=45)\n",
    "plt.yticks(range(diabetesDF.shape[1]), diabetesDF.columns, fontsize=14)\n",
    "cb = plt.colorbar()\n",
    "cb.ax.tick_params(labelsize=14)\n",
    "plt.title('Correlation Matrix', fontsize=16);"
   ]
  },
  {
   "cell_type": "code",
   "execution_count": 29,
   "metadata": {},
   "outputs": [],
   "source": [
    "#Strong co-relations exist between:\n",
    "#Age and Pregnancies\n",
    "#Glucose and target\n",
    "#BMI and skinthickness - Check which is more accurate to target and eliminate the other\n",
    "#Insulin and skin thickness - Check if skin thickness can be eliminated and insulin and BMI retained\n",
    "#Moderate co-relation in insulin and glucose and hence outcome.\n",
    "#Moderate co-relation between BMI and outcome"
   ]
  },
  {
   "cell_type": "code",
   "execution_count": 190,
   "metadata": {},
   "outputs": [],
   "source": [
    "#Test the different models on the dataset\n",
    "def test_models(X,y):\n",
    "    #List of classifier models to test\n",
    "    classifiers = {'Gradient Boosting Classifier':GradientBoostingClassifier(),'Adaptive Boosting Classifier':AdaBoostClassifier(),'Linear Discriminant Analysis':LinearDiscriminantAnalysis(),'Logistic Regression':LogisticRegression(),'Random Forest Classifier': RandomForestClassifier(),'K Nearest Neighbour':KNeighborsClassifier(8)}\n",
    "    #Get the input variables and target variables for testing\n",
    "    data_y = y\n",
    "    data_X = X\n",
    "    #Print the headers\n",
    "    print(data_X.columns)\n",
    "    log_cols = [\"Classifier\", \"Accuracy\",\"Precision Score\",\"Recall Score\",\"F1-Score\",\"roc-auc_Score\"]\n",
    "    log = pd.DataFrame(columns=log_cols)\n",
    "    #Filter the ignore warnings\n",
    "    import warnings\n",
    "    warnings.filterwarnings('ignore')\n",
    "    #Random splitting to check over-fitting in testing the models\n",
    "    rs = StratifiedShuffleSplit(n_splits=5, test_size=0.2,random_state=0)\n",
    "    rs.get_n_splits(data_X,data_y)\n",
    "    for Name,classify in classifiers.items():\n",
    "        for train_index, test_index in rs.split(data_X,data_y):\n",
    "            X,X_test = data_X.iloc[train_index], data_X.iloc[test_index]\n",
    "            y,y_test = data_y.iloc[train_index], data_y.iloc[test_index]\n",
    "\n",
    "            cls = classify\n",
    "            cls =cls.fit(X,y)\n",
    "\n",
    "            y_out = cls.predict(X_test)\n",
    "\n",
    "            accuracy = m.accuracy_score(y_test,y_out)\n",
    "            precision = m.precision_score(y_test,y_out,average='macro')\n",
    "            recall = m.recall_score(y_test,y_out,average='macro')\n",
    "            roc_auc = roc_auc_score(y_out,y_test)\n",
    "            f1_score = m.f1_score(y_test,y_out,average='macro')\n",
    "            #conf = metrics.confusion_matrix(y, y_out)\n",
    "\n",
    "            log_entry = pd.DataFrame([[Name,accuracy,precision,recall,f1_score,roc_auc]], columns=log_cols)\n",
    "            log = log.append(log_entry)\n",
    "    print(log)\n",
    "    plt.xlabel('AUC Score')\n",
    "    plt.title('Classifier Score')\n",
    "    sns.set_color_codes(\"muted\")\n",
    "    sns.barplot(x='roc-auc_Score', y='Classifier', data=log, color=\"g\")  \n",
    "    plt.show()\n",
    "\n",
    "\n",
    "#Test  a specific model for performance\n",
    "def modelfit(alg, X, y, performCV=True, printFeatureImportance=True, cv_folds=5):\n",
    "    #Fit the algorithm on the data\n",
    "    alg.fit(X, y)\n",
    "    #Predict training set:\n",
    "    dtrain_predictions = alg.predict(X)\n",
    "    dtrain_predprob = alg.predict_proba(X)[:,1]\n",
    "    #Perform cross-validation:\n",
    "    if performCV:\n",
    "        cv_score = cross_validation.cross_val_score(alg, X, y, cv=cv_folds, scoring='roc_auc')\n",
    "    f1_score = metrics.f1_score(y,dtrain_predictions,average='macro')\n",
    "    conf = metrics.confusion_matrix(y, dtrain_predictions)\n",
    "    #Print model report:\n",
    "    print (\"\\nModel Report\")\n",
    "    print (\"Accuracy : \", metrics.accuracy_score(y.values, dtrain_predictions))\n",
    "    print (\"AUC Score (Train): \", metrics.roc_auc_score(y, dtrain_predprob))\n",
    "    print (\"F1 Score: \", f1_score)\n",
    "    print (conf)\n",
    "    if performCV:\n",
    "        print (\"CV Score Mean : \",np.mean(cv_score), \"Std: \", np.std(cv_score),\"Min: \", np.min(cv_score), \"Max: \", np.max(cv_score))   \n",
    "    #Print Feature Importance:\n",
    "    if printFeatureImportance:\n",
    "        feat_imp = pd.Series(alg.feature_importances_, X.columns).sort_values(ascending=False)\n",
    "        fig, ax = plt.subplots(figsize=(15,10))\n",
    "        feat_imp.plot(kind='bar', title='Feature Importances')\n",
    "        plt.ylabel('Feature Importance Score')\n",
    "         \n",
    "    #Plot AUC-ROC curve\n",
    "    range = [0.4, 0.3, 0.25, 0.2]\n",
    "    for t in range:\n",
    "        print (\"With a threshold of: \",t)\n",
    "        y_pred = np.copy(dtrain_predprob)\n",
    "        threshold = t\n",
    "        y_pred[dtrain_predprob >= threshold] = 1\n",
    "        y_pred[dtrain_predprob < threshold] = 0\n",
    "        print (confusion_matrix(y, y_pred))\n",
    "        \n",
    "        \n",
    "from sklearn import metrics\n",
    "\n",
    "def test_opt_model(model,X,y):\n",
    "    #Predict with best model\n",
    "    y_pred = model.predict(X)\n",
    "    y_predprob = model.predict_proba(X)[:,1]\n",
    "\n",
    "    #Score Training data\n",
    "    f1_score = metrics.f1_score(y,y_pred,average='macro')\n",
    "    conf = metrics.confusion_matrix(y, y_pred)\n",
    "    \n",
    "    #Print model report:\n",
    "    print (\"AUC Score (Train): %f\", metrics.roc_auc_score(y, y_predprob))\n",
    "    print (\"F1 Score: \", f1_score)\n",
    "    print (conf)"
   ]
  },
  {
   "cell_type": "code",
   "execution_count": 191,
   "metadata": {},
   "outputs": [],
   "source": [
    "# Separating inputs and target variables\n",
    "X = diabetesDF.drop(['Outcome'], axis=1)\n",
    "y = diabetesDF['Outcome']"
   ]
  },
  {
   "cell_type": "code",
   "execution_count": 192,
   "metadata": {},
   "outputs": [
    {
     "name": "stdout",
     "output_type": "stream",
     "text": [
      "Index(['Glucose', 'SkinThickness', 'BMI', 'DiabetesPedigreeFunction', 'Age',\n",
      "       'InsulinHL', 'BP', 'Preg'],\n",
      "      dtype='object')\n",
      "                     Classifier  Accuracy  Precision Score  Recall Score  \\\n",
      "0  Gradient Boosting Classifier  0.805195         0.795455      0.764815   \n",
      "0  Gradient Boosting Classifier  0.740260         0.715909      0.693519   \n",
      "0  Gradient Boosting Classifier  0.792208         0.773462      0.763333   \n",
      "0  Gradient Boosting Classifier  0.727273         0.699849      0.696296   \n",
      "0  Gradient Boosting Classifier  0.779221         0.759827      0.744815   \n",
      "0  Adaptive Boosting Classifier  0.798701         0.792899      0.751296   \n",
      "0  Adaptive Boosting Classifier  0.733766         0.707543      0.688519   \n",
      "0  Adaptive Boosting Classifier  0.759740         0.736735      0.725556   \n",
      "0  Adaptive Boosting Classifier  0.753247         0.729074      0.729074   \n",
      "0  Adaptive Boosting Classifier  0.824675         0.817431      0.788333   \n",
      "0  Linear Discriminant Analysis  0.779221         0.769737      0.727778   \n",
      "0  Linear Discriminant Analysis  0.733766         0.713906      0.671481   \n",
      "0  Linear Discriminant Analysis  0.818182         0.805228      0.787593   \n",
      "0  Linear Discriminant Analysis  0.759740         0.738940      0.717037   \n",
      "0  Linear Discriminant Analysis  0.785714         0.785054      0.728519   \n",
      "0           Logistic Regression  0.766234         0.756352      0.709259   \n",
      "0           Logistic Regression  0.727273         0.709069      0.657963   \n",
      "0           Logistic Regression  0.798701         0.792899      0.751296   \n",
      "0           Logistic Regression  0.753247         0.735965      0.699259   \n",
      "0           Logistic Regression  0.792208         0.796846      0.733519   \n",
      "0      Random Forest Classifier  0.785714         0.785054      0.728519   \n",
      "0      Random Forest Classifier  0.714286         0.686479      0.652222   \n",
      "0      Random Forest Classifier  0.746753         0.722311      0.707037   \n",
      "0      Random Forest Classifier  0.753247         0.735965      0.699259   \n",
      "0      Random Forest Classifier  0.733766         0.707543      0.688519   \n",
      "0           K Nearest Neighbour  0.785714         0.772994      0.741296   \n",
      "0           K Nearest Neighbour  0.740260         0.727941      0.672222   \n",
      "0           K Nearest Neighbour  0.707792         0.676377      0.664259   \n",
      "0           K Nearest Neighbour  0.694805         0.660089      0.632963   \n",
      "0           K Nearest Neighbour  0.772727         0.767267      0.714259   \n",
      "\n",
      "   F1-Score  roc-auc_Score  \n",
      "0  0.775510       0.795455  \n",
      "0  0.700680       0.715909  \n",
      "0  0.767722       0.773462  \n",
      "0  0.697926       0.699849  \n",
      "0  0.750809       0.759827  \n",
      "0  0.764072       0.792899  \n",
      "0  0.694843       0.707543  \n",
      "0  0.730144       0.736735  \n",
      "0  0.729074       0.729074  \n",
      "0  0.799043       0.817431  \n",
      "0  0.739710       0.769737  \n",
      "0  0.680255       0.713906  \n",
      "0  0.794784       0.805228  \n",
      "0  0.724615       0.738940  \n",
      "0  0.742644       0.785054  \n",
      "0  0.721014       0.756352  \n",
      "0  0.665909       0.709069  \n",
      "0  0.764072       0.792899  \n",
      "0  0.709087       0.735965  \n",
      "0  0.748828       0.796846  \n",
      "0  0.742644       0.785054  \n",
      "0  0.659018       0.686479  \n",
      "0  0.712728       0.722311  \n",
      "0  0.709087       0.735965  \n",
      "0  0.694843       0.707543  \n",
      "0  0.751698       0.772994  \n",
      "0  0.681818       0.727941  \n",
      "0  0.668532       0.676377  \n",
      "0  0.638010       0.660089  \n",
      "0  0.727047       0.767267  \n"
     ]
    },
    {
     "data": {
      "image/png": "[encoded data removed]",
      "text/plain": [
       "<Figure size 432x288 with 1 Axes>"
      ]
     },
     "metadata": {
      "needs_background": "light"
     },
     "output_type": "display_data"
    }
   ],
   "source": [
    "#Test for the best base model for our data set\n",
    "test_models(X,y)"
   ]
  },
  {
   "cell_type": "code",
   "execution_count": 1097,
   "metadata": {},
   "outputs": [
    {
     "data": {
      "text/plain": [
       "'\\nFIRST HYPOTHESIS:\\n- Select one of BMI-SkinThickness and see how it affects the models\\n- Remove Insulin to see importance of feature\\n- Bracket Insulin and BP and pregnancy to reduce impact of outliers on models\\n- Try over-sampling since the data is imbalanced\\n'"
      ]
     },
     "execution_count": 1097,
     "metadata": {},
     "output_type": "execute_result"
    }
   ],
   "source": [
    "\"\"\"\n",
    "FIRST HYPOTHESIS:\n",
    "- Select one of BMI-SkinThickness and see how it affects the models\n",
    "- Remove Insulin to see importance of feature\n",
    "- Bracket Insulin and BP and pregnancy to reduce impact of outliers on models\n",
    "- Try over-sampling since the data is imbalanced\n",
    "\"\"\""
   ]
  },
  {
   "cell_type": "code",
   "execution_count": 1098,
   "metadata": {},
   "outputs": [
    {
     "name": "stdout",
     "output_type": "stream",
     "text": [
      "<class 'pandas.core.frame.DataFrame'>\n",
      "RangeIndex: 768 entries, 0 to 767\n",
      "Data columns (total 9 columns):\n",
      "Pregnancies                 768 non-null int64\n",
      "Glucose                     768 non-null int64\n",
      "BloodPressure               768 non-null int64\n",
      "SkinThickness               768 non-null int64\n",
      "Insulin                     768 non-null int64\n",
      "BMI                         768 non-null float64\n",
      "DiabetesPedigreeFunction    768 non-null float64\n",
      "Age                         768 non-null int64\n",
      "Outcome                     768 non-null int64\n",
      "dtypes: float64(2), int64(7)\n",
      "memory usage: 54.1 KB\n"
     ]
    }
   ],
   "source": [
    "#Re-loading data\n",
    "diabetesDF = pd.read_csv('diabetes.csv')\n",
    "diabetesDF.info()"
   ]
  },
  {
   "cell_type": "code",
   "execution_count": 1099,
   "metadata": {},
   "outputs": [],
   "source": [
    "diabetesDF = diabetesDF[((diabetesDF[\"BMI\"] != 0) & (diabetesDF[\"SkinThickness\"] != 0) & (diabetesDF[\"Insulin\"] != 0) & (diabetesDF[\"BMI\"] != 0))]\n",
    "#remove the incomplete data: Where BMI, Skin Thickness and Insulin values are 0"
   ]
  },
  {
   "cell_type": "code",
   "execution_count": 1100,
   "metadata": {},
   "outputs": [
    {
     "data": {
      "image/png": "[encoded data removed]",
      "text/plain": [
       "<Figure size 864x720 with 2 Axes>"
      ]
     },
     "metadata": {
      "needs_background": "light"
     },
     "output_type": "display_data"
    }
   ],
   "source": [
    "#Using Pearson Correlation to understand the new features\n",
    "plt.figure(figsize=(12,10))\n",
    "cor = diabetesDF.corr()\n",
    "sns.heatmap(cor, annot=True, cmap=plt.cm.Reds)\n",
    "plt.show()"
   ]
  },
  {
   "cell_type": "code",
   "execution_count": 1101,
   "metadata": {},
   "outputs": [
    {
     "data": {
      "text/html": [
       "<div>\n",
       "<style scoped>\n",
       "    .dataframe tbody tr th:only-of-type {\n",
       "        vertical-align: middle;\n",
       "    }\n",
       "\n",
       "    .dataframe tbody tr th {\n",
       "        vertical-align: top;\n",
       "    }\n",
       "\n",
       "    .dataframe thead th {\n",
       "        text-align: right;\n",
       "    }\n",
       "</style>\n",
       "<table border=\"1\" class=\"dataframe\">\n",
       "  <thead>\n",
       "    <tr style=\"text-align: right;\">\n",
       "      <th></th>\n",
       "      <th>Glucose</th>\n",
       "      <th>BMI</th>\n",
       "      <th>DiabetesPedigreeFunction</th>\n",
       "      <th>Age</th>\n",
       "      <th>InsulinHL</th>\n",
       "      <th>BP</th>\n",
       "      <th>Preg</th>\n",
       "      <th>Outcome</th>\n",
       "    </tr>\n",
       "  </thead>\n",
       "  <tbody>\n",
       "    <tr>\n",
       "      <th>3</th>\n",
       "      <td>89</td>\n",
       "      <td>28.1</td>\n",
       "      <td>0.167</td>\n",
       "      <td>21</td>\n",
       "      <td>5</td>\n",
       "      <td>2</td>\n",
       "      <td>0</td>\n",
       "      <td>0</td>\n",
       "    </tr>\n",
       "    <tr>\n",
       "      <th>4</th>\n",
       "      <td>137</td>\n",
       "      <td>43.1</td>\n",
       "      <td>2.288</td>\n",
       "      <td>33</td>\n",
       "      <td>5</td>\n",
       "      <td>2</td>\n",
       "      <td>0</td>\n",
       "      <td>1</td>\n",
       "    </tr>\n",
       "    <tr>\n",
       "      <th>6</th>\n",
       "      <td>78</td>\n",
       "      <td>31.0</td>\n",
       "      <td>0.248</td>\n",
       "      <td>26</td>\n",
       "      <td>5</td>\n",
       "      <td>2</td>\n",
       "      <td>0</td>\n",
       "      <td>1</td>\n",
       "    </tr>\n",
       "    <tr>\n",
       "      <th>8</th>\n",
       "      <td>197</td>\n",
       "      <td>30.5</td>\n",
       "      <td>0.158</td>\n",
       "      <td>53</td>\n",
       "      <td>5</td>\n",
       "      <td>2</td>\n",
       "      <td>0</td>\n",
       "      <td>1</td>\n",
       "    </tr>\n",
       "    <tr>\n",
       "      <th>13</th>\n",
       "      <td>189</td>\n",
       "      <td>30.1</td>\n",
       "      <td>0.398</td>\n",
       "      <td>59</td>\n",
       "      <td>5</td>\n",
       "      <td>2</td>\n",
       "      <td>0</td>\n",
       "      <td>1</td>\n",
       "    </tr>\n",
       "  </tbody>\n",
       "</table>\n",
       "</div>"
      ],
      "text/plain": [
       "    Glucose   BMI  DiabetesPedigreeFunction  Age  InsulinHL  BP  Preg  Outcome\n",
       "3        89  28.1                     0.167   21          5   2     0        0\n",
       "4       137  43.1                     2.288   33          5   2     0        1\n",
       "6        78  31.0                     0.248   26          5   2     0        1\n",
       "8       197  30.5                     0.158   53          5   2     0        1\n",
       "13      189  30.1                     0.398   59          5   2     0        1"
      ]
     },
     "execution_count": 1101,
     "metadata": {},
     "output_type": "execute_result"
    }
   ],
   "source": [
    "#Pre-processing---------\n",
    "#Dropping SkinThickness which is similar to BMI \n",
    "diabetesDF = diabetesDF.drop(['SkinThickness'], axis=1)\n",
    "#diabetesDF = diabetesDF.drop(['Insulin'], axis=1)\n",
    "\n",
    "\n",
    "#Categorizing Insulin and Pregnancy and BP\n",
    "diabetesDF['InsulinHL'] = 0\n",
    "diabetesDF.loc[(diabetesDF['Insulin'] >= 7) & (diabetesDF['Insulin'] <= 11),'InsulinHL'] = '3'\n",
    "diabetesDF.loc[diabetesDF['Insulin'] > 11,'InsulinHL'] = '5'\n",
    "diabetesDF.loc[diabetesDF['Insulin'] < 7,'InsulinHL'] = '0'\n",
    "diabetesDF.drop(diabetesDF[['Insulin']],axis=1,inplace=True)\n",
    "diabetesDF['InsulinHL']=diabetesDF[\"InsulinHL\"].astype('int64')\n",
    "diabetesDF.head()\n",
    "\n",
    "\n",
    "diabetesDF['BP'] = 0\n",
    "diabetesDF.loc[(diabetesDF['BloodPressure'] >= 80) & (diabetesDF['BloodPressure'] <= 95),'BP'] = '0'\n",
    "diabetesDF.loc[diabetesDF['BloodPressure'] > 95,'BP'] = '1'\n",
    "diabetesDF.loc[diabetesDF['BloodPressure'] < 80,'BP'] = '2'\n",
    "diabetesDF.drop(diabetesDF[['BloodPressure']],axis=1,inplace=True)\n",
    "diabetesDF['BP']=diabetesDF[\"BP\"].astype('int64')\n",
    "diabetesDF.head()\n",
    "\n",
    "\n",
    "diabetesDF['Preg'] = 0\n",
    "#diabetesDF.loc[(diabetesDF['Pregnancies'] >= 2) & (diabetesDF['Pregnancies'] <= 4),'Preg'] = '0'\n",
    "diabetesDF.loc[diabetesDF['Pregnancies'] >= 4,'Preg'] = '1'\n",
    "diabetesDF.loc[diabetesDF['Pregnancies'] < 4,'Preg'] = '0'\n",
    "diabetesDF.drop(diabetesDF[['Pregnancies']],axis=1,inplace=True)\n",
    "diabetesDF['Preg']=diabetesDF[\"Preg\"].astype('int64')\n",
    "\n",
    "diabetesDF = diabetesDF[[\"Glucose\", \"BMI\", \"DiabetesPedigreeFunction\", \"Age\", \"InsulinHL\", \"BP\", \"Preg\", \"Outcome\"]]\n",
    "diabetesDF.head()"
   ]
  },
  {
   "cell_type": "code",
   "execution_count": 1102,
   "metadata": {},
   "outputs": [],
   "source": [
    "#Oversampling the unbalanced dataset\n",
    "X = diabetesDF.drop(['Outcome'], axis=1)\n",
    "y = diabetesDF['Outcome']\n",
    "X_train, X_test, y_train, y_test = train_test_split(X, y, test_size=0.4, random_state=10)\n",
    "\n",
    "from imblearn.over_sampling import SMOTE\n",
    "from sklearn.utils import resample\n",
    "\n",
    "# Resample the minority class\n",
    "sm = SMOTE(sampling_strategy='minority', random_state=10)\n",
    "\n",
    "# Fit the model to generate the data.\n",
    "oversampled_trainX, oversampled_trainY = sm.fit_sample(X_train, y_train)\n",
    "oversampled_train = pd.concat([pd.DataFrame(oversampled_trainX), pd.DataFrame(oversampled_trainY)], axis=1)\n",
    "oversampled_train.columns = diabetesDF.columns\n"
   ]
  },
  {
   "cell_type": "code",
   "execution_count": 1103,
   "metadata": {},
   "outputs": [
    {
     "data": {
      "text/plain": [
       "1    156\n",
       "0    156\n",
       "Name: Outcome, dtype: int64"
      ]
     },
     "execution_count": 1103,
     "metadata": {},
     "output_type": "execute_result"
    }
   ],
   "source": [
    "# Separating inputs and target variables\n",
    "X_train = oversampled_train.drop(['Outcome'], axis=1)\n",
    "y_train = oversampled_train['Outcome']\n",
    "#Checking if the training data equal values\n",
    "y_train.value_counts()"
   ]
  },
  {
   "cell_type": "code",
   "execution_count": 1104,
   "metadata": {},
   "outputs": [
    {
     "name": "stdout",
     "output_type": "stream",
     "text": [
      "==============================\n",
      "KNeighborsClassifier\n",
      "****Results****\n",
      "Accuracy: 70.8861%\n",
      "Log Loss: 4.203908907128077\n",
      "==============================\n",
      "SVC\n",
      "****Results****\n",
      "Accuracy: 68.3544%\n",
      "Log Loss: 0.6687924125448299\n",
      "==============================\n",
      "NuSVC\n",
      "****Results****\n",
      "Accuracy: 67.7215%\n",
      "Log Loss: 0.5562173543167639\n",
      "==============================\n",
      "DecisionTreeClassifier\n",
      "****Results****\n",
      "Accuracy: 70.8861%\n",
      "Log Loss: 10.055593127632225\n",
      "==============================\n",
      "RandomForestClassifier\n",
      "****Results****\n",
      "Accuracy: 73.4177%\n",
      "Log Loss: 0.9615667454217397\n",
      "==============================\n",
      "AdaBoostClassifier\n",
      "****Results****\n",
      "Accuracy: 70.2532%\n",
      "Log Loss: 0.6570310375800177\n",
      "==============================\n",
      "GradientBoostingClassifier\n",
      "****Results****\n",
      "Accuracy: 74.6835%\n",
      "Log Loss: 0.5363592195226885\n",
      "==============================\n",
      "GaussianNB\n",
      "****Results****\n",
      "Accuracy: 77.8481%\n",
      "Log Loss: 0.6787594894743096\n",
      "==============================\n",
      "LinearDiscriminantAnalysis\n",
      "****Results****\n",
      "Accuracy: 78.4810%\n",
      "Log Loss: 0.5066187400278976\n",
      "==============================\n",
      "QuadraticDiscriminantAnalysis\n",
      "****Results****\n",
      "Accuracy: 36.7089%\n",
      "Log Loss: 21.696906801056468\n",
      "==============================\n"
     ]
    }
   ],
   "source": [
    "#Classifier performance\n",
    "from sklearn.metrics import accuracy_score, log_loss\n",
    "from sklearn.neighbors import KNeighborsClassifier\n",
    "from sklearn.svm import SVC, LinearSVC, NuSVC\n",
    "from sklearn.tree import DecisionTreeClassifier\n",
    "from sklearn.ensemble import RandomForestClassifier, AdaBoostClassifier, GradientBoostingClassifier\n",
    "from sklearn.naive_bayes import GaussianNB\n",
    "from sklearn.discriminant_analysis import LinearDiscriminantAnalysis\n",
    "from sklearn.discriminant_analysis import QuadraticDiscriminantAnalysis\n",
    "\n",
    "classifiers = [\n",
    "    KNeighborsClassifier(3),\n",
    "    SVC(kernel=\"rbf\", C=0.025, probability=True),\n",
    "    NuSVC(probability=True),\n",
    "    DecisionTreeClassifier(),\n",
    "    RandomForestClassifier(),\n",
    "    AdaBoostClassifier(),\n",
    "    GradientBoostingClassifier(),\n",
    "    GaussianNB(),\n",
    "    LinearDiscriminantAnalysis(),\n",
    "    QuadraticDiscriminantAnalysis()]\n",
    "\n",
    "# Logging for Visual Comparison\n",
    "log_cols=[\"Classifier\", \"Accuracy\", \"Log Loss\"]\n",
    "log = pd.DataFrame(columns=log_cols)\n",
    "\n",
    "for clf in classifiers:\n",
    "    clf.fit(X_train, y_train)\n",
    "    name = clf.__class__.__name__\n",
    "    \n",
    "    print(\"=\"*30)\n",
    "    print(name)\n",
    "    \n",
    "    print('****Results****')\n",
    "    train_predictions = clf.predict(X_test)\n",
    "    acc = accuracy_score(y_test, train_predictions)\n",
    "    print(\"Accuracy: {:.4%}\".format(acc))\n",
    "    \n",
    "    train_predictions = clf.predict_proba(X_test)\n",
    "    ll = log_loss(y_test, train_predictions)\n",
    "    print(\"Log Loss: {}\".format(ll))\n",
    "    \n",
    "    log_entry = pd.DataFrame([[name, acc*100, ll]], columns=log_cols)\n",
    "    log = log.append(log_entry)\n",
    "    \n",
    "print(\"=\"*30)\n",
    "\n",
    "#Feature importance\n",
    "def features(model,X):\n",
    "    coeff = list(model.coef_[0])\n",
    "    labels = list(X)\n",
    "    features = pd.DataFrame()\n",
    "    features['Features'] = labels\n",
    "    features['importance'] = coeff\n",
    "    features.sort_values(by=['importance'], ascending=True, inplace=True)\n",
    "    features['positive'] = features['importance'] > 0\n",
    "    features.set_index('Features', inplace=True)\n",
    "    features.importance.plot(kind='barh', figsize=(11, 6),color = features.positive.map({True: 'blue', False: 'red'}))\n",
    "    plt.xlabel('Importance')"
   ]
  },
  {
   "cell_type": "code",
   "execution_count": 1105,
   "metadata": {},
   "outputs": [
    {
     "name": "stdout",
     "output_type": "stream",
     "text": [
      "Index(['Glucose', 'BMI', 'DiabetesPedigreeFunction', 'Age', 'InsulinHL', 'BP',\n",
      "       'Preg'],\n",
      "      dtype='object')\n",
      "                     Classifier  Accuracy  Precision Score  Recall Score  \\\n",
      "0  Gradient Boosting Classifier  0.888889         0.889394      0.888609   \n",
      "0  Gradient Boosting Classifier  0.825397         0.828093      0.826109   \n",
      "0  Gradient Boosting Classifier  0.888889         0.889394      0.888609   \n",
      "0  Gradient Boosting Classifier  0.825397         0.834200      0.824093   \n",
      "0  Gradient Boosting Classifier  0.714286         0.714214      0.714214   \n",
      "0  Adaptive Boosting Classifier  0.841270         0.841230      0.841230   \n",
      "0  Adaptive Boosting Classifier  0.825397         0.825605      0.825605   \n",
      "0  Adaptive Boosting Classifier  0.809524         0.810852      0.808972   \n",
      "0  Adaptive Boosting Classifier  0.825397         0.834200      0.824093   \n",
      "0  Adaptive Boosting Classifier  0.714286         0.715010      0.713710   \n",
      "0  Linear Discriminant Analysis  0.746032         0.746957      0.745464   \n",
      "0  Linear Discriminant Analysis  0.746032         0.746957      0.745464   \n",
      "0  Linear Discriminant Analysis  0.809524         0.821579      0.807964   \n",
      "0  Linear Discriminant Analysis  0.809524         0.810852      0.808972   \n",
      "0  Linear Discriminant Analysis  0.698413         0.700000      0.697581   \n",
      "0           Logistic Regression  0.761905         0.762121      0.761593   \n",
      "0           Logistic Regression  0.746032         0.746957      0.745464   \n",
      "0           Logistic Regression  0.793651         0.801455      0.792339   \n",
      "0           Logistic Regression  0.793651         0.796429      0.792843   \n",
      "0           Logistic Regression  0.714286         0.715010      0.713710   \n",
      "0      Random Forest Classifier  0.825397         0.828571      0.824597   \n",
      "0      Random Forest Classifier  0.841270         0.841230      0.841230   \n",
      "0      Random Forest Classifier  0.841270         0.854737      0.839718   \n",
      "0      Random Forest Classifier  0.873016         0.874746      0.872480   \n",
      "0      Random Forest Classifier  0.746032         0.746970      0.746472   \n",
      "0           K Nearest Neighbour  0.825397         0.825758      0.825101   \n",
      "0           K Nearest Neighbour  0.666667         0.674679      0.664819   \n",
      "0           K Nearest Neighbour  0.730159         0.730303      0.729839   \n",
      "0           K Nearest Neighbour  0.761905         0.764199      0.762601   \n",
      "0           K Nearest Neighbour  0.857143         0.860041      0.857863   \n",
      "\n",
      "   F1-Score  roc-auc_Score  \n",
      "0  0.888777       0.889394  \n",
      "0  0.825221       0.828093  \n",
      "0  0.888777       0.889394  \n",
      "0  0.823799       0.834200  \n",
      "0  0.714214       0.714214  \n",
      "0  0.841230       0.841230  \n",
      "0  0.825397       0.825605  \n",
      "0  0.809091       0.810852  \n",
      "0  0.823799       0.834200  \n",
      "0  0.713636       0.715010  \n",
      "0  0.745455       0.746957  \n",
      "0  0.745455       0.746957  \n",
      "0  0.807143       0.821579  \n",
      "0  0.809091       0.810852  \n",
      "0  0.697192       0.700000  \n",
      "0  0.761665       0.762121  \n",
      "0  0.745455       0.746957  \n",
      "0  0.791762       0.801455  \n",
      "0  0.792816       0.796429  \n",
      "0  0.713636       0.715010  \n",
      "0  0.824690       0.828571  \n",
      "0  0.841230       0.841230  \n",
      "0  0.839286       0.854737  \n",
      "0  0.872727       0.874746  \n",
      "0  0.745968       0.746970  \n",
      "0  0.825221       0.825758  \n",
      "0  0.661204       0.674679  \n",
      "0  0.729887       0.730303  \n",
      "0  0.761665       0.764199  \n",
      "0  0.856999       0.860041  \n"
     ]
    },
    {
     "data": {
      "image/png": "[encoded data removed]",
      "text/plain": [
       "<Figure size 432x288 with 1 Axes>"
      ]
     },
     "metadata": {
      "needs_background": "light"
     },
     "output_type": "display_data"
    }
   ],
   "source": [
    "#Test for the best base model again!\n",
    "test_models(X_train,y_train)"
   ]
  },
  {
   "cell_type": "code",
   "execution_count": 1114,
   "metadata": {},
   "outputs": [
    {
     "data": {
      "text/plain": [
       "GradientBoostingClassifier(criterion='friedman_mse', init=None,\n",
       "                           learning_rate=0.1, loss='deviance', max_depth=3,\n",
       "                           max_features=None, max_leaf_nodes=None,\n",
       "                           min_impurity_decrease=0.0, min_impurity_split=None,\n",
       "                           min_samples_leaf=40, min_samples_split=100,\n",
       "                           min_weight_fraction_leaf=0.0, n_estimators=150,\n",
       "                           n_iter_no_change=None, presort='auto',\n",
       "                           random_state=20, subsample=0.8, tol=0.0001,\n",
       "                           validation_fraction=0.1, verbose=0,\n",
       "                           warm_start=False)"
      ]
     },
     "execution_count": 1114,
     "metadata": {},
     "output_type": "execute_result"
    }
   ],
   "source": [
    "#Gradient Boosting algorithm is 2nd best suited. Lets tune the hyper-parameters\n",
    "model = GradientBoostingClassifier(n_estimators= 150,learning_rate=0.1, min_samples_split=100,min_samples_leaf=40,max_depth=3,subsample=0.8,random_state=20)\n",
    "model = model.fit(X_train, y_train)\n",
    "model"
   ]
  },
  {
   "cell_type": "code",
   "execution_count": 1115,
   "metadata": {},
   "outputs": [
    {
     "name": "stdout",
     "output_type": "stream",
     "text": [
      "AUC Score (Train): %f 0.8473520249221185\n",
      "F1 Score:  0.7629302736098852\n",
      "[[86 21]\n",
      " [13 38]]\n"
     ]
    }
   ],
   "source": [
    "test_opt_model(model,X_test,y_test)"
   ]
  },
  {
   "cell_type": "code",
   "execution_count": 1078,
   "metadata": {},
   "outputs": [
    {
     "name": "stdout",
     "output_type": "stream",
     "text": [
      "Parameters currently in use:\n",
      "\n",
      "{'bootstrap': True,\n",
      " 'criterion': 'mse',\n",
      " 'max_depth': None,\n",
      " 'max_features': 'auto',\n",
      " 'max_leaf_nodes': None,\n",
      " 'min_impurity_decrease': 0.0,\n",
      " 'min_impurity_split': None,\n",
      " 'min_samples_leaf': 1,\n",
      " 'min_samples_split': 2,\n",
      " 'min_weight_fraction_leaf': 0.0,\n",
      " 'n_estimators': 'warn',\n",
      " 'n_jobs': None,\n",
      " 'oob_score': False,\n",
      " 'random_state': 42,\n",
      " 'verbose': 0,\n",
      " 'warm_start': False}\n"
     ]
    }
   ],
   "source": [
    "#Random forest is best suited. Lets train it's hyperparameters and test as well\n",
    "from sklearn.ensemble import RandomForestRegressor\n",
    "rf = RandomForestRegressor(random_state = 42)\n",
    "from pprint import pprint\n",
    "# Look at parameters used by our current forest\n",
    "print('Parameters currently in use:\\n')\n",
    "pprint(rf.get_params())"
   ]
  },
  {
   "cell_type": "code",
   "execution_count": 1079,
   "metadata": {},
   "outputs": [
    {
     "name": "stdout",
     "output_type": "stream",
     "text": [
      "{'bootstrap': [True, False],\n",
      " 'max_depth': [10, 20, 30, 40, 50, 60, 70, 80, 90, 100, 110, None],\n",
      " 'max_features': ['auto', 'sqrt'],\n",
      " 'min_samples_leaf': [1, 2, 4],\n",
      " 'min_samples_split': [2, 5, 10],\n",
      " 'n_estimators': [200, 400, 600, 800, 1000, 1200, 1400, 1600, 1800, 2000]}\n",
      "Fitting 3 folds for each of 100 candidates, totalling 300 fits\n"
     ]
    },
    {
     "name": "stderr",
     "output_type": "stream",
     "text": [
      "[Parallel(n_jobs=-1)]: Using backend LokyBackend with 12 concurrent workers.\n",
      "[Parallel(n_jobs=-1)]: Done  17 tasks      | elapsed:    4.8s\n",
      "[Parallel(n_jobs=-1)]: Done 138 tasks      | elapsed:   16.1s\n",
      "[Parallel(n_jobs=-1)]: Done 300 out of 300 | elapsed:   33.4s finished\n"
     ]
    },
    {
     "data": {
      "text/plain": [
       "RandomizedSearchCV(cv=3, error_score='raise-deprecating',\n",
       "                   estimator=RandomForestRegressor(bootstrap=True,\n",
       "                                                   criterion='mse',\n",
       "                                                   max_depth=None,\n",
       "                                                   max_features='auto',\n",
       "                                                   max_leaf_nodes=None,\n",
       "                                                   min_impurity_decrease=0.0,\n",
       "                                                   min_impurity_split=None,\n",
       "                                                   min_samples_leaf=1,\n",
       "                                                   min_samples_split=2,\n",
       "                                                   min_weight_fraction_leaf=0.0,\n",
       "                                                   n_estimators='warn',\n",
       "                                                   n_jobs=None, oob_score=False,\n",
       "                                                   random_sta...\n",
       "                   param_distributions={'bootstrap': [True, False],\n",
       "                                        'max_depth': [10, 20, 30, 40, 50, 60,\n",
       "                                                      70, 80, 90, 100, 110,\n",
       "                                                      None],\n",
       "                                        'max_features': ['auto', 'sqrt'],\n",
       "                                        'min_samples_leaf': [1, 2, 4],\n",
       "                                        'min_samples_split': [2, 5, 10],\n",
       "                                        'n_estimators': [200, 400, 600, 800,\n",
       "                                                         1000, 1200, 1400, 1600,\n",
       "                                                         1800, 2000]},\n",
       "                   pre_dispatch='2*n_jobs', random_state=42, refit=True,\n",
       "                   return_train_score=False, scoring=None, verbose=2)"
      ]
     },
     "execution_count": 1079,
     "metadata": {},
     "output_type": "execute_result"
    }
   ],
   "source": [
    "from sklearn.model_selection import RandomizedSearchCV\n",
    "# Number of trees in random forest\n",
    "n_estimators = [int(x) for x in np.linspace(start = 200, stop = 2000, num = 10)]\n",
    "# Number of features to consider at every split\n",
    "max_features = ['auto', 'sqrt']\n",
    "# Maximum number of levels in tree\n",
    "max_depth = [int(x) for x in np.linspace(10, 110, num = 11)]\n",
    "max_depth.append(None)\n",
    "# Minimum number of samples required to split a node\n",
    "min_samples_split = [2, 5, 10]\n",
    "# Minimum number of samples required at each leaf node\n",
    "min_samples_leaf = [1, 2, 4]\n",
    "# Method of selecting samples for training each tree\n",
    "bootstrap = [True, False]\n",
    "# Create the random grid\n",
    "random_grid = {'n_estimators': n_estimators,\n",
    "               'max_features': max_features,\n",
    "               'max_depth': max_depth,\n",
    "               'min_samples_split': min_samples_split,\n",
    "               'min_samples_leaf': min_samples_leaf,\n",
    "               'bootstrap': bootstrap}\n",
    "pprint(random_grid)\n",
    "# Use the random grid to search for best hyperparameters\n",
    "# First create the base model to tune\n",
    "rf = RandomForestRegressor()\n",
    "# Random search of parameters, using 3 fold cross validation, \n",
    "# search across 100 different combinations, and use all available cores\n",
    "rf_random = RandomizedSearchCV(estimator = rf, param_distributions = random_grid, n_iter = 100, cv = 3, verbose=2, random_state=42, n_jobs = -1)\n",
    "# Fit the random search model\n",
    "rf_random.fit(X_train, y_train)"
   ]
  },
  {
   "cell_type": "code",
   "execution_count": 1081,
   "metadata": {},
   "outputs": [
    {
     "data": {
      "text/plain": [
       "{'n_estimators': 400,\n",
       " 'min_samples_split': 2,\n",
       " 'min_samples_leaf': 1,\n",
       " 'max_features': 'sqrt',\n",
       " 'max_depth': None,\n",
       " 'bootstrap': False}"
      ]
     },
     "execution_count": 1081,
     "metadata": {},
     "output_type": "execute_result"
    }
   ],
   "source": [
    "rf_random.best_params_"
   ]
  },
  {
   "cell_type": "code",
   "execution_count": 1108,
   "metadata": {},
   "outputs": [
    {
     "data": {
      "text/plain": [
       "RandomForestClassifier(bootstrap=False, class_weight=None, criterion='gini',\n",
       "                       max_depth=None, max_features='auto', max_leaf_nodes=None,\n",
       "                       min_impurity_decrease=0.0, min_impurity_split=None,\n",
       "                       min_samples_leaf=4, min_samples_split=2,\n",
       "                       min_weight_fraction_leaf=0.0, n_estimators=10,\n",
       "                       n_jobs=None, oob_score=False, random_state=None,\n",
       "                       verbose=0, warm_start=False)"
      ]
     },
     "execution_count": 1108,
     "metadata": {},
     "output_type": "execute_result"
    }
   ],
   "source": [
    "model = RandomForestClassifier(n_estimators= 10,min_samples_split= 2, min_samples_leaf= 4,max_features= 'auto',max_depth= None,bootstrap= False)\n",
    "model = model.fit(X_train, y_train)\n",
    "model"
   ]
  },
  {
   "cell_type": "code",
   "execution_count": 1109,
   "metadata": {},
   "outputs": [
    {
     "name": "stdout",
     "output_type": "stream",
     "text": [
      "AUC Score (Train): %f 0.8248121678577973\n",
      "F1 Score:  0.6876909254267745\n",
      "[[83 24]\n",
      " [20 31]]\n"
     ]
    }
   ],
   "source": [
    "test_opt_model(model,X_test,y_test)"
   ]
  },
  {
   "cell_type": "code",
   "execution_count": null,
   "metadata": {},
   "outputs": [],
   "source": []
  }
 ],
 "metadata": {
  "anaconda-cloud": {},
  "kernelspec": {
   "display_name": "Python 3",
   "language": "python",
   "name": "python3"
  },
  "language_info": {
   "codemirror_mode": {
    "name": "ipython",
    "version": 3
   },
   "file_extension": ".py",
   "mimetype": "text/x-python",
   "name": "python",
   "nbconvert_exporter": "python",
   "pygments_lexer": "ipython3",
   "version": "3.7.3"
  }
 },
 "nbformat": 4,
 "nbformat_minor": 4
}
